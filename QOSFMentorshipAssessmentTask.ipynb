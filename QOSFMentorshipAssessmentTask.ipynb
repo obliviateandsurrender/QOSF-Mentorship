{
 "cells": [
  {
   "cell_type": "markdown",
   "metadata": {
    "colab_type": "text",
    "id": "uF0ZfQS2XjvJ"
   },
   "source": [
    "# **QOSF Mentorship Assessment Task**"
   ]
  },
  {
   "cell_type": "markdown",
   "metadata": {
    "colab_type": "text",
    "id": "-BXVedCOdGx-"
   },
   "source": [
    "### **Applicant**: Utkarsh, *Center for Computational Natural Sciences and Bioinformatics, IIIT Hyderabad*"
   ]
  },
  {
   "cell_type": "markdown",
   "metadata": {
    "colab_type": "text",
    "id": "4TkViNPydAiH"
   },
   "source": [
    "\n",
    "\n",
    "## **Question**:\n",
    "\n",
    "Find the lowest eigenvalue of the following matrix:\n",
    "\n",
    "$$\n",
    "\\begin{bmatrix}\n",
    "1 & 0 & 0 & 0  \\\\\n",
    "0 & 0 & -1 & 0 \\\\\n",
    "0 & -1 & 0 & 0 \\\\\n",
    "0 & 0 & 0 & 1\n",
    "\\end{bmatrix}.\n",
    "$$\n",
    "\n",
    "using VQE-like circuits, created by yourself from scratch.\n",
    "\n",
    "## **Solution**:\n",
    "\n",
    "My solution involves usage of Qiskit platform and is outlined as follows:\n",
    "\n",
    "\n",
    "1.   Hamiltonian in Pauli Basis\n",
    "2.   Calculations of Expectation Value\n",
    "3.   Designing Ansatze\n",
    "4.   Running Simulations\n",
    "5.   Extension to Excited Energy States\n",
    "6.   Interpreting the Results\n"
   ]
  },
  {
   "cell_type": "markdown",
   "metadata": {
    "colab_type": "text",
    "id": "ep7BJd5rXfp0"
   },
   "source": [
    "# **Necessary Imports**"
   ]
  },
  {
   "cell_type": "code",
   "execution_count": 1,
   "metadata": {
    "colab": {},
    "colab_type": "code",
    "id": "mR0wV5DwNgdi"
   },
   "outputs": [],
   "source": [
    "import numpy as np\n",
    "import scipy as sp\n",
    "import itertools\n",
    "import functools as ft\n",
    "import matplotlib.pyplot as plt\n",
    "from mpl_toolkits import mplot3d\n",
    "%matplotlib inline\n",
    "import re "
   ]
  },
  {
   "cell_type": "code",
   "execution_count": 2,
   "metadata": {
    "colab": {},
    "colab_type": "code",
    "id": "BNuuMTepLawO"
   },
   "outputs": [],
   "source": [
    "#!pip install qiskit\n",
    "from qiskit import *"
   ]
  },
  {
   "cell_type": "markdown",
   "metadata": {
    "colab_type": "text",
    "id": "GSmZr-sqRjRl"
   },
   "source": [
    "# **Hamiltonian in Pauli Basis**"
   ]
  },
  {
   "cell_type": "markdown",
   "metadata": {
    "colab_type": "text",
    "id": "m2yFeEhKdV-l"
   },
   "source": [
    "$$\n",
    "\\sigma_0 = \\begin{pmatrix} 1 & 0 \\\\ 0 & 1 \\end{pmatrix} \\quad\n",
    "\\sigma_x = \\begin{pmatrix} 0 & 1 \\\\ 1 & 0 \\end{pmatrix} \\quad\n",
    "\\sigma_y = \\begin{pmatrix} 0 &-i \\\\ i & 0 \\end{pmatrix} \\quad\n",
    "\\sigma_z = \\begin{pmatrix} 1 & 0 \\\\ 0 &-1 \\end{pmatrix}\n",
    "$$\n",
    "\n",
    "The normalized Pauli matrices $\\{\\sigma_0,\\sigma_x,\\sigma_y,\\sigma_z\\}/{\\sqrt{2}}$ form an orthogonal basis of $\\mathcal{M}_2$, this vector space can be endowed with a scalar product called the Hilbert-Schmidt inner product: $⟨A,B⟩=Tr(A^{\\dagger}B)$.\n",
    "Since the Pauli matrices anticommute, their product is traceless, and since they are Hermitian this implies that they are orthogonal with respect to that scalar product. Hence this property can be used for decomposing a Hamiltonian as:\n",
    "\n",
    "$$ H = \\sum_{i_{1},\\ldots,i_{n} = \\{0,x,y,z\\}}h_{i_{1},\\ldots,i_{n}}\\cdot \\frac{1}{2^{n}}\\sigma_{i_1}\\otimes\\ldots\\otimes\\sigma_{i_n} $$\n",
    "\n",
    "$$h_{i_{1},\\ldots,i_{n}} = \\frac{1}{2^{n}}\\text{Tr}\\big((\\sigma_{i_1}\\otimes\\ldots\\otimes\\sigma_{i_n})^\\dagger \\cdot H\\big) = \\frac{1}{2^{n}}\\text{Tr}\\big((\\sigma_{i_1}\\otimes\\ldots\\otimes\\sigma_{i_n}) \\cdot H\\big)$$"
   ]
  },
  {
   "cell_type": "markdown",
   "metadata": {
    "colab_type": "text",
    "id": "kgSjUkn9SJyK"
   },
   "source": [
    "## Decomposing Hamiltonian into Pauli Terms"
   ]
  },
  {
   "cell_type": "code",
   "execution_count": 3,
   "metadata": {
    "colab": {},
    "colab_type": "code",
    "id": "RuxuOH7cQBxU"
   },
   "outputs": [],
   "source": [
    "def decompose_ham_to_pauli(H):\n",
    "    \"\"\"Decomposes a Hermitian matrix into a linear combination of Pauli operators.\n",
    "\n",
    "    Args:\n",
    "        H (array[complex]): a Hermitian matrix of dimension 2**n x 2**n.\n",
    "\n",
    "    Returns:\n",
    "        tuple[list[float], list[string], list [ndarray]]: a list of coefficients, \n",
    "        a list of corresponding string representation of tensor products of Pauli \n",
    "        observables that decompose the Hamiltonian, and\n",
    "        a list of their matrix representation as numpy arrays\n",
    "    \"\"\"\n",
    "\n",
    "    n = int(np.log2(len(H)))\n",
    "    N = 2 ** n\n",
    "\n",
    "    # Sanity Checks\n",
    "    if H.shape != (N, N):\n",
    "        raise ValueError(\n",
    "            \"The Hamiltonian should have shape (2**n, 2**n), for any qubit number n>=1\"\n",
    "        )\n",
    "\n",
    "    if not np.allclose(H, H.conj().T):\n",
    "        raise ValueError(\"The Hamiltonian is not Hermitian\")\n",
    "\n",
    "    sI = np.eye(2, 2, dtype=complex)\n",
    "    sX = np.array([[0, 1], [1, 0]], dtype=complex)\n",
    "    sZ = np.array([[1, 0], [0,-1]], dtype=complex)\n",
    "    sY = complex(0,-1)*np.matmul(sZ,sX)\n",
    "    paulis = [sI, sX, sY, sZ]\n",
    "    paulis_label = ['I', 'X', 'Y', 'Z']\n",
    "    obs = []\n",
    "    coeffs = []\n",
    "    matrix = []\n",
    "    \n",
    "    for term in itertools.product(paulis, repeat=n):\n",
    "        matrices = [pauli for pauli in term]\n",
    "        coeff = np.trace(ft.reduce(np.kron, matrices) @ H) / N \n",
    "        coeff = np.real_if_close(coeff).item()\n",
    "        \n",
    "        # Hilbert-Schmidt-Product\n",
    "        if not np.allclose(coeff, 0): \n",
    "            coeffs.append(coeff)\n",
    "            obs.append(''.join([paulis_label[[i for i, x in enumerate(paulis) \n",
    "            if np.all(x == t)][0]]+str(idx) for idx, t in enumerate(reversed(term))]))\n",
    "            matrix.append(ft.reduce(np.kron, matrices))\n",
    "\n",
    "    return obs, coeffs , matrix\n"
   ]
  },
  {
   "cell_type": "markdown",
   "metadata": {
    "colab_type": "text",
    "id": "yuFvFODtSWC9"
   },
   "source": [
    "## Composing Hamiltonian into Pauli Terms"
   ]
  },
  {
   "cell_type": "code",
   "execution_count": 4,
   "metadata": {
    "colab": {},
    "colab_type": "code",
    "id": "il7P7UjRCnYZ"
   },
   "outputs": [],
   "source": [
    "def compose_ham_from_pauli(terms, coeffs):\n",
    "    \"\"\"Composes a Hermitian matrix from a linear combination of Pauli operators.\n",
    "\n",
    "    Args:\n",
    "        tuple[list[float], list[string]]: a list of coefficients, \n",
    "        a list of corresponding string representation of tensor products of \n",
    "        Pauli observables that decompose the Hamiltonian.\n",
    "\n",
    "    Returns:\n",
    "        H (array[complex]): a Hermitian matrix of dimension 2**n x 2**n.\n",
    "    \"\"\"\n",
    "\n",
    "    pauli_qbs = [re.findall(r'[A-Za-z]|-?\\d+\\.\\d+|\\d+', x) for x in terms]\n",
    "    qubits = max([max(list(map(int, x[1:][::2]))) for x in pauli_qbs])\n",
    "\n",
    "    N = int(2**np.ceil(np.log2(qubits+1)))\n",
    "\n",
    "    sI = np.eye(2, 2, dtype=complex)\n",
    "    sX = np.array([[0, 1], [1, 0]], dtype=complex)\n",
    "    sZ = np.array([[1, 0], [0,-1]], dtype=complex)\n",
    "    sY = complex(0,-1)*np.matmul(sZ,sX)\n",
    "    paulis = [sI, sX, sY, sZ]\n",
    "    paulis_label = ['I', 'X', 'Y', 'Z']\n",
    "    paulis_term = {'I':sI, 'X':sX, 'Y':sY, 'Z':sZ}\n",
    "    hamil = np.zeros((2**N, 2**N), dtype=complex) \n",
    "\n",
    "    for coeff, pauli_qb in zip(coeffs, pauli_qbs):\n",
    "      term_str = ['I'] * N\n",
    "      for term, index in zip(pauli_qb[0:][::2], pauli_qb[1:][::2]):\n",
    "        term_str[int(index)] = term\n",
    "      matrices = [paulis_term[pauli] for pauli in term_str]\n",
    "      term_matrix = np.asarray(ft.reduce(np.kron, matrices[::-1]))\n",
    "      hamil += coeff*term_matrix\n",
    "    \n",
    "    # Sanity Check\n",
    "    if not np.allclose(hamil, hamil.conj().T):\n",
    "        raise ValueError(\"The Hamiltonian formed is not Hermitian\")\n",
    "\n",
    "    return hamil"
   ]
  },
  {
   "cell_type": "markdown",
   "metadata": {
    "colab_type": "text",
    "id": "RJzA-5-dSjZs"
   },
   "source": [
    "## Test Hamiltonian"
   ]
  },
  {
   "cell_type": "markdown",
   "metadata": {
    "colab_type": "text",
    "id": "L_JjpjQLi5wX"
   },
   "source": [
    "$$ H_{0} = \\begin{bmatrix} \n",
    "0.7056 & 0       & 0.     & 0.    \\\\\n",
    "0.     & -1.1246 & 0.182  & 0.    \\\\\n",
    "0.     & 0.182   & 0.4318 & 0.    \\\\\n",
    "0.     & 0       & 0.     & 0.888 \n",
    "\\end{bmatrix}\n",
    "$$\n"
   ]
  },
  {
   "cell_type": "code",
   "execution_count": 5,
   "metadata": {
    "colab": {
     "base_uri": "https://localhost:8080/",
     "height": 85
    },
    "colab_type": "code",
    "id": "ArcKozNTTGtb",
    "outputId": "7b719e1e-fed8-427e-de0f-d514f254340f"
   },
   "outputs": [
    {
     "data": {
      "text/plain": [
       "array([[ 0.7056,  0.    , -0.    ,  0.    ],\n",
       "       [ 0.    , -1.1246,  0.182 ,  0.    ],\n",
       "       [-0.    ,  0.182 ,  0.4318, -0.    ],\n",
       "       [ 0.    ,  0.    , -0.    ,  0.888 ]])"
      ]
     },
     "execution_count": 5,
     "metadata": {},
     "output_type": "execute_result"
    }
   ],
   "source": [
    "H0 = np.array([\n",
    "                [ 0.7056    ,  0.         , -0.       ,  0.        ],\n",
    "                [ 0.        ,  -1.1246    , 0.182     ,  0.        ],\n",
    "                [-0.        , 0.182       ,  0.4318   , -0.        ],\n",
    "                [ 0.        ,  0.         , -0.       ,  0.888     ]\n",
    "               ])\n",
    "H0"
   ]
  },
  {
   "cell_type": "code",
   "execution_count": 6,
   "metadata": {
    "colab": {
     "base_uri": "https://localhost:8080/",
     "height": 51
    },
    "colab_type": "code",
    "id": "Y2g4seRwNvHt",
    "outputId": "80b1f14f-af89-4833-c4ba-3fb577b60be9"
   },
   "outputs": [
    {
     "data": {
      "text/plain": [
       "(['I0I1', 'Z0I1', 'X0X1', 'Y0Y1', 'I0Z1', 'Z0Z1'],\n",
       " [0.2252, 0.3435, 0.091, 0.091, -0.43470000000000003, 0.5716])"
      ]
     },
     "execution_count": 6,
     "metadata": {},
     "output_type": "execute_result"
    }
   ],
   "source": [
    "a, b , c = decompose_ham_to_pauli(H0)\n",
    "a, b"
   ]
  },
  {
   "cell_type": "markdown",
   "metadata": {
    "colab_type": "text",
    "id": "RW1ZnmcllTDX"
   },
   "source": [
    "$$ H_{0} =  0.2252\\times I_{0}I_{1} + 0.3435\\times Z_{0} - 0.4347\\times Z_{1} + 0.91\\times X_{0}X_{1} + 0.91\\times Y_{0}Y_{1} + 0.5716 \\times Z_{0}Z_{1} $$\n"
   ]
  },
  {
   "cell_type": "code",
   "execution_count": 7,
   "metadata": {
    "colab": {
     "base_uri": "https://localhost:8080/",
     "height": 85
    },
    "colab_type": "code",
    "id": "m3nUNTzHQ5Hr",
    "outputId": "8c4bf68d-2d1b-45e1-a392-5efb10510c84"
   },
   "outputs": [
    {
     "data": {
      "text/plain": [
       "array([[ 0.7056+0.j,  0.    +0.j,  0.    +0.j,  0.    +0.j],\n",
       "       [ 0.    +0.j, -1.1246+0.j,  0.182 +0.j,  0.    +0.j],\n",
       "       [ 0.    +0.j,  0.182 +0.j,  0.4318+0.j,  0.    +0.j],\n",
       "       [ 0.    +0.j,  0.    +0.j,  0.    +0.j,  0.888 +0.j]])"
      ]
     },
     "execution_count": 7,
     "metadata": {},
     "output_type": "execute_result"
    }
   ],
   "source": [
    "compose_ham_from_pauli(a, b)"
   ]
  },
  {
   "cell_type": "code",
   "execution_count": 8,
   "metadata": {
    "colab": {},
    "colab_type": "code",
    "id": "MMS4ZIQWUAxv"
   },
   "outputs": [],
   "source": [
    "assert(np.isclose(compose_ham_from_pauli(a, b).real, H0).all())"
   ]
  },
  {
   "cell_type": "markdown",
   "metadata": {
    "colab_type": "text",
    "id": "q2p19HJhSp_D"
   },
   "source": [
    "## Given Hamiltonian"
   ]
  },
  {
   "cell_type": "markdown",
   "metadata": {
    "colab_type": "text",
    "id": "P8NWAuzWlcDT"
   },
   "source": [
    "$$ H_{1} = \\begin{bmatrix} \n",
    "1.     & 0       & 0.     & 0.    \\\\\n",
    "0.     & 0       &-1      & 0.    \\\\\n",
    "0.     &-1       & 0      & 0.    \\\\\n",
    "0.     & 0       & 0.     & 1.    \\\\\n",
    "\\end{bmatrix}\n",
    "$$\n"
   ]
  },
  {
   "cell_type": "code",
   "execution_count": 9,
   "metadata": {
    "colab": {
     "base_uri": "https://localhost:8080/",
     "height": 85
    },
    "colab_type": "code",
    "id": "9F8e4QMiLjdZ",
    "outputId": "b5310bbd-21aa-48e0-e5d8-c0958d7b883f"
   },
   "outputs": [
    {
     "data": {
      "text/plain": [
       "array([[ 1,  0,  0,  0],\n",
       "       [ 0,  0, -1,  0],\n",
       "       [ 0, -1,  0,  0],\n",
       "       [ 0,  0,  0,  1]])"
      ]
     },
     "execution_count": 9,
     "metadata": {},
     "output_type": "execute_result"
    }
   ],
   "source": [
    "H1 = np.array([[1, 0, 0, 0], \n",
    "             [0, 0, -1, 0], \n",
    "             [0, -1, 0, 0], \n",
    "             [0, 0, 0, 1]])\n",
    "H1"
   ]
  },
  {
   "cell_type": "code",
   "execution_count": 10,
   "metadata": {
    "colab": {
     "base_uri": "https://localhost:8080/",
     "height": 34
    },
    "colab_type": "code",
    "id": "9E2R7KxbNuZy",
    "outputId": "de85234c-f786-48b2-cf5d-6d56193de0bc"
   },
   "outputs": [
    {
     "data": {
      "text/plain": [
       "(['I0I1', 'X0X1', 'Y0Y1', 'Z0Z1'], [0.5, -0.5, -0.5, 0.5])"
      ]
     },
     "execution_count": 10,
     "metadata": {},
     "output_type": "execute_result"
    }
   ],
   "source": [
    "a, b, c = decompose_ham_to_pauli(H1)\n",
    "a, b"
   ]
  },
  {
   "cell_type": "markdown",
   "metadata": {
    "colab_type": "text",
    "id": "uGZ3Smnflpcd"
   },
   "source": [
    "$$ H_{1} = 0.5\\times (I_{0}I_{1} - X_{0}X_{1} - Y_{0}Y_{1} + Z_{0}Z_{1})$$"
   ]
  },
  {
   "cell_type": "code",
   "execution_count": 11,
   "metadata": {
    "colab": {
     "base_uri": "https://localhost:8080/",
     "height": 85
    },
    "colab_type": "code",
    "id": "r-2WOoHIJW1-",
    "outputId": "679791e3-a069-4f33-8d42-2053fa277c59"
   },
   "outputs": [
    {
     "data": {
      "text/plain": [
       "array([[ 1.+0.j,  0.+0.j,  0.+0.j,  0.+0.j],\n",
       "       [ 0.+0.j,  0.+0.j, -1.+0.j,  0.+0.j],\n",
       "       [ 0.+0.j, -1.+0.j,  0.+0.j,  0.+0.j],\n",
       "       [ 0.+0.j,  0.+0.j,  0.+0.j,  1.+0.j]])"
      ]
     },
     "execution_count": 11,
     "metadata": {},
     "output_type": "execute_result"
    }
   ],
   "source": [
    "compose_ham_from_pauli(a, b)"
   ]
  },
  {
   "cell_type": "code",
   "execution_count": 12,
   "metadata": {
    "colab": {},
    "colab_type": "code",
    "id": "W7WivblKVeWs"
   },
   "outputs": [],
   "source": [
    "assert(np.isclose(compose_ham_from_pauli(a, b).real, H1).all())"
   ]
  },
  {
   "cell_type": "markdown",
   "metadata": {
    "colab_type": "text",
    "id": "aa36jBlnS_X9"
   },
   "source": [
    "# **Calculating the Expectation values**"
   ]
  },
  {
   "cell_type": "markdown",
   "metadata": {
    "colab_type": "text",
    "id": "dnhhVlaspY86"
   },
   "source": [
    "For an $n$-qubit quantum state, measuring one qubit corresponds to projecting the quantum state onto one of two half-spaces determined by the unique eigenvalues of our measurement operator. \n",
    "\n",
    "By convention, performing a computational basis measurement is equivalent to measuring in measuring `Pauli Z`, which gives us two eigenvectors $|0\\rangle$ and $|1\\rangle$, with corresponding eigenvalues $\\pm 1$. Therefore, doing a computation measurement of a qubit and obtaining $0$ means the state of our qubit is in the $+1$ eigenstate of the $Z$ operator. In general, we can then use the definition of the tensor product to perform multi-qubit measurements as will be explained below. \n",
    "\n",
    "For some qubit $|\\psi\\rangle$ we have $|\\psi\\rangle = \\alpha |0\\rangle + \\beta|1\\rangle$, we can calculate expectation value of a single-qubit operator $M = \\sum_m m|m\\rangle\\langle m|$, as $\\langle M \\rangle = \\langle \\psi | \\sum_{m} m|m\\rangle\\langle m| \\psi\\rangle = \\sum_m m \\langle \\psi |m^{\\dagger} m| \\psi\\rangle = \\sum_m m\\space p(m) = (+1)p(0) + (-1)p(1) = p(0)-p(1)$. Similarly, for a two-qubit operator $M$ we will get $\\langle M \\rangle = p(00) + p(11) - p(01) - p(10)$."
   ]
  },
  {
   "cell_type": "markdown",
   "metadata": {
    "colab_type": "text",
    "id": "_CUlmejDTq8z"
   },
   "source": [
    "## Change of Basis"
   ]
  },
  {
   "cell_type": "markdown",
   "metadata": {
    "colab_type": "text",
    "id": "mZdZ05822PzE"
   },
   "source": [
    "Therefore, to measure a qubit, we can use any $2\\times2$ operator that is a unitary transformation of $Z$. That is, we could also use a measurement operator $M=U^{\\dagger}ZU$, where $U$ is an unitary operator and $M$ gives two unique outcomes of a measurement in its $\\pm 1$ eigenvectors. Thereofre, to measure in a basis other than the computational (or $Z$), we need to find the corresponding unitary equivalence. Similar to the one-qubit case, all two-qubit Pauli-measurements can be written as $(U_{1}^{\\dagger}\\otimes U_{2}^{\\dagger}) [Z\\otimes Z] (U_{1}\\otimes U_{2})$ for $2\\times 2$ unitary matrices $U_1$ and $U_2$.\n",
    "\n",
    "\n",
    "For $X$, and $Y$ basis measurements, these unitary equivalence are given below:\n",
    "\n",
    "$$X = (H)^{\\dagger} Z H$$\n",
    "$$Y = (HS^{\\dagger})^{\\dagger} Z (HS^{\\dagger})$$ \n",
    "\n",
    "This feature can be exploited to create circuits for both $X$ basis and $Y$ basis measurements from the standard $Z$ basis. It is done by applying the corresponding unitary operation to the prepared quantum state and then performing a measurement in $Z$ basis. \n",
    "\n",
    "**For example**: In order to do a $Y$ basis measurement, first apply $HS^{\\dagger}$ to the quantum state and then do a normal $Z$ basis measurement. \n",
    "\n",
    "Similar to the one-qubit case, all multi-qubit Pauli-measurements can be written as a generalization of above.\n",
    "\n",
    "**For example**: For two-qubit $X$ basis measurement, $X\\otimes X = (H\\otimes H)[Z\\otimes Z] (H\\otimes H)$. "
   ]
  },
  {
   "cell_type": "markdown",
   "metadata": {
    "colab_type": "text",
    "id": "pMs4KKYO2UFH"
   },
   "source": [
    "## Constructing Measurement Circuits"
   ]
  },
  {
   "cell_type": "code",
   "execution_count": 13,
   "metadata": {
    "colab": {},
    "colab_type": "code",
    "id": "6lm1-Wjs2fo0"
   },
   "outputs": [],
   "source": [
    "def measure_circuit(basis, num_qubits):\n",
    "    \"\"\"\n",
    "    Generate measurement circuit according to the Pauli observable\n",
    "    string provided. \n",
    "\n",
    "    Args:\n",
    "    basis (str): String representation of tensor products of Pauli \n",
    "    observables\n",
    "    num_qubits (int): Number of qubits in the circuit\n",
    "\n",
    "    Returns:\n",
    "    measure_qc (QuantumCircuit): Measurement Circuit for the \n",
    "    corresponding basis.\n",
    "    \n",
    "    \"\"\"\n",
    "\n",
    "    basis_qb = re.findall(r'[A-Za-z]|-?\\d+\\.\\d+|\\d+', basis)\n",
    "    basis = basis_qb[0:][::2] \n",
    "    qubit = list(map(int, basis_qb[1:][::2]))\n",
    "\n",
    "    measure_qc = QuantumCircuit(num_qubits, num_qubits)\n",
    "    for base, qb in zip(basis, qubit):\n",
    "      if base == 'I' or base == 'Z':\n",
    "        pass\n",
    "      elif base == 'X':\n",
    "        measure_qc.h(qb)\n",
    "      elif base == 'Y':\n",
    "        measure_qc.sdg(qb)\n",
    "        measure_qc.h(qb)\n",
    "      else:\n",
    "        raise ValueError(\"Wrong Basis provided\")\n",
    "\n",
    "    measure_qc.measure_all()\n",
    "\n",
    "    return measure_qc\n"
   ]
  },
  {
   "cell_type": "code",
   "execution_count": 14,
   "metadata": {
    "colab": {},
    "colab_type": "code",
    "id": "jIlY6gZ3Ly2L"
   },
   "outputs": [],
   "source": [
    "def calculate_expecation_val(circuit, basis, shots=2048, backend='qasm_simulator'):\n",
    "    \"\"\"\n",
    "    Calculate expectation value for the measurement of a circuit in a \n",
    "    given basis.\n",
    "\n",
    "    Args:\n",
    "    circuit (QuantumCircuit): Circuit using which expectation value \n",
    "    will be calculated for a given basis.\n",
    "    basis (str): String representation of tensor products of Pauli \n",
    "    observables.\n",
    "    shots (int): Number of times measurements needed to be done for calculating\n",
    "    probability.\n",
    "    backend (str): Backend for running the circuit.\n",
    "\n",
    "    Returns:\n",
    "    exp (float): Expectation value for the measurement of a circuit \n",
    "    in a given basis.\n",
    "\n",
    "    \"\"\"\n",
    "    exp_circuit = circuit + measure_circuit(basis, circuit.num_qubits)\n",
    "\n",
    "    result = execute(exp_circuit, backend=Aer.get_backend(backend),\n",
    "                    shots=shots).result()\n",
    "    \n",
    "    exp = 0.0\n",
    "    for key, counts in result.get_counts().items():\n",
    "        exp += (-1)**(int(key[0])+int(key[1])) * counts\n",
    "\n",
    "    return exp/shots\n"
   ]
  },
  {
   "cell_type": "markdown",
   "metadata": {
    "colab_type": "text",
    "id": "ZCFJiHdzTDA-"
   },
   "source": [
    "# **Determining the Ansatz**"
   ]
  },
  {
   "cell_type": "markdown",
   "metadata": {
    "colab_type": "text",
    "id": "rvN3GfXMW08_"
   },
   "source": [
    "## Designing Ansatze"
   ]
  },
  {
   "cell_type": "markdown",
   "metadata": {
    "colab_type": "text",
    "id": "iW9L_S409vu7"
   },
   "source": [
    "Ansatze are simply a parameterized quantum circuits (PQC), which play an essential role in the performance of many variational hybrid quantum-classical (HQC) algorithms. Major challenge while designing an asatz is to choose an effective template circuit that well represents the solution space while maintaining a low circuit depth and number of parameters. Here, we make a choice of two ansatze, one randomly and another inspired from the given hint."
   ]
  },
  {
   "cell_type": "markdown",
   "metadata": {
    "colab_type": "text",
    "id": "QDoOgEw7WWa_"
   },
   "source": [
    "### Ansatz 1 (Random Choice)"
   ]
  },
  {
   "cell_type": "code",
   "execution_count": 15,
   "metadata": {
    "colab": {
     "base_uri": "https://localhost:8080/",
     "height": 122
    },
    "colab_type": "code",
    "id": "3Kb_af_1TLFH",
    "outputId": "56c00e09-d419-4881-803f-5a45f0a66dfe"
   },
   "outputs": [
    {
     "data": {
      "text/html": [
       "<pre style=\"word-wrap: normal;white-space: pre;background: #fff0;line-height: 1.1;font-family: &quot;Courier New&quot;,Courier,monospace\">      ┌────────────┐     ┌────────────┐\n",
       "q_0: ─┤ RX(2.5003) ├──■──┤ RZ(1.8628) ├\n",
       "     ┌┴────────────┤┌─┴─┐├────────────┤\n",
       "q_1: ┤ RX(-2.5032) ├┤ X ├┤ RZ(-2.928) ├\n",
       "     └─────────────┘└───┘└────────────┘\n",
       "c: 2/══════════════════════════════════\n",
       "                                       </pre>"
      ],
      "text/plain": [
       "      ┌────────────┐     ┌────────────┐\n",
       "q_0: ─┤ RX(2.5003) ├──■──┤ RZ(1.8628) ├\n",
       "     ┌┴────────────┤┌─┴─┐├────────────┤\n",
       "q_1: ┤ RX(-2.5032) ├┤ X ├┤ RZ(-2.928) ├\n",
       "     └─────────────┘└───┘└────────────┘\n",
       "c: 2/══════════════════════════════════\n",
       "                                       "
      ]
     },
     "execution_count": 15,
     "metadata": {},
     "output_type": "execute_result"
    }
   ],
   "source": [
    "def ansatz1(params, num_qubits): \n",
    "    \"\"\"\n",
    "    Generate an templated ansatz with given parameters\n",
    "\n",
    "    Args:\n",
    "    params (array[float]): Parameters to initialize the parameterized unitary.\n",
    "    num_qubits (int): Number of qubits in the circuit.\n",
    "    \n",
    "    Returns:\n",
    "    ansatz (QuantumCircuit): Generated ansatz circuit\n",
    "\n",
    "    \"\"\"\n",
    "\n",
    "    ansatz = QuantumCircuit(num_qubits, num_qubits)\n",
    "    params = params.reshape(2,2)\n",
    "    \n",
    "    for idx in range(num_qubits):\n",
    "      ansatz.rx(params[0][idx], idx)\n",
    "    \n",
    "    ansatz.cnot(0, 1)\n",
    "\n",
    "    for idx in range(num_qubits):\n",
    "      ansatz.rz(params[1][idx], idx)\n",
    "\n",
    "    return ansatz\n",
    "\n",
    "ansatz1(np.random.uniform(-np.pi, np.pi, (2,2)), 2).draw()"
   ]
  },
  {
   "cell_type": "markdown",
   "metadata": {
    "colab_type": "text",
    "id": "Nrf6R2ucWT9d"
   },
   "source": [
    "### Ansatz 2 (From Hint)"
   ]
  },
  {
   "cell_type": "code",
   "execution_count": 26,
   "metadata": {
    "colab": {
     "base_uri": "https://localhost:8080/",
     "height": 122
    },
    "colab_type": "code",
    "id": "gNg9Rlg-W50S",
    "outputId": "b00b16a1-ea12-4fc2-9718-a03a5a1ef5bc"
   },
   "outputs": [
    {
     "data": {
      "text/html": [
       "<pre style=\"word-wrap: normal;white-space: pre;background: #fff0;line-height: 1.1;font-family: &quot;Courier New&quot;,Courier,monospace\">     ┌───┐     ┌────────┐\n",
       "q_0: ┤ H ├──■──┤ RX(pi) ├\n",
       "     └───┘┌─┴─┐└────────┘\n",
       "q_1: ─────┤ X ├──────────\n",
       "          └───┘          \n",
       "c: 2/════════════════════\n",
       "                         </pre>"
      ],
      "text/plain": [
       "     ┌───┐     ┌────────┐\n",
       "q_0: ┤ H ├──■──┤ RX(pi) ├\n",
       "     └───┘┌─┴─┐└────────┘\n",
       "q_1: ─────┤ X ├──────────\n",
       "          └───┘          \n",
       "c: 2/════════════════════\n",
       "                         "
      ]
     },
     "execution_count": 26,
     "metadata": {},
     "output_type": "execute_result"
    }
   ],
   "source": [
    "def ansatz2(params, num_qubits): \n",
    "    \"\"\"\n",
    "    Generate an templated ansatz with given parameters\n",
    "\n",
    "    Args:\n",
    "    params (array[float]): Parameters to initialize the parameterized unitary.\n",
    "    num_qubits (int): Number of qubits in the circuit.\n",
    "    \n",
    "    Returns:\n",
    "    ansatz (QuantumCircuit): Generated ansatz circuit\n",
    "\n",
    "    \"\"\"\n",
    "\n",
    "    ansatz = QuantumCircuit(num_qubits, num_qubits)\n",
    "    ansatz.h(0)\n",
    "    ansatz.cx(0, 1)\n",
    "    ansatz.rx(params[0], 0)\n",
    "\n",
    "    return ansatz\n",
    "\n",
    "ansatz2([np.pi], 2).draw()"
   ]
  },
  {
   "cell_type": "markdown",
   "metadata": {
    "colab_type": "text",
    "id": "SrJIWOvfTS9l"
   },
   "source": [
    "## Checking Expressibility of Ansatze"
   ]
  },
  {
   "cell_type": "markdown",
   "metadata": {
    "colab_type": "text",
    "id": "qKtAfhBVXC_z"
   },
   "source": [
    "We quantify expressibility of ansatze using the Hilbert-Schmidt norm of $A$ defined as:\n",
    "\n",
    "$$ A = \\int_{Haar} |\\psi\\rangle\\langle\\psi| d\\psi - \\int_{\\theta} |\\psi_{\\theta}\\rangle\\langle\\psi_{\\theta}| d\\theta$$\n",
    "\n",
    "This quantity needs to be taken with a pinch of salt as it is an oversimplification of the $A$ which actually has to be calculated with the definition of an $\\epsilon$-approximate state $t$-design [[1](https://arxiv.org/abs/1905.10876)].\n",
    "\n",
    "Here, the first term, i.e. a Haar integral, is the integral over a group of unitaries distributed randomly according to the Haar measure. Whereas, the second term,  is taken over all states over the measure induced by uniformly sampling the parameters $\\theta$ of the PQC."
   ]
  },
  {
   "cell_type": "code",
   "execution_count": 27,
   "metadata": {
    "colab": {},
    "colab_type": "code",
    "id": "Ap75-O-epPJ5"
   },
   "outputs": [],
   "source": [
    "def random_unitary(N):\n",
    "    \"\"\"\n",
    "        Return a Haar distributed random unitary from U(N)\n",
    "    \"\"\"\n",
    "\n",
    "    Z = np.random.randn(N, N) + 1.0j * np.random.randn(N, N)\n",
    "    [Q, R] = sp.linalg.qr(Z)\n",
    "    D = np.diag(np.diagonal(R) / np.abs(np.diagonal(R)))\n",
    "    return np.dot(Q, D)\n",
    "\n",
    "def haar_integral(num_qubits, samples):\n",
    "    \"\"\"\n",
    "        Return calculation of Haar Integral for a specified number of samples.\n",
    "    \"\"\"\n",
    "\n",
    "    N = 2**num_qubits\n",
    "    randunit_density = np.zeros((N, N), dtype=complex)\n",
    "\n",
    "    \n",
    "    zero_state = np.zeros(N, dtype=complex)\n",
    "    zero_state[0] = 1\n",
    "    \n",
    "    for _ in range(samples):\n",
    "      A = np.matmul(zero_state, random_unitary(N)).reshape(-1,1)\n",
    "      randunit_density += np.kron(A, A.conj().T) \n",
    "\n",
    "    randunit_density/=samples\n",
    "\n",
    "    return randunit_density\n",
    "    \n",
    "def pqc_integral(num_qubits, ansatze, size, samples):\n",
    "    \"\"\"\n",
    "        Return calculation of Integral for a PQC over the uniformly sampled \n",
    "        the parameters θ for the specified number of samples.\n",
    "    \"\"\"\n",
    "\n",
    "    N = num_qubits\n",
    "    randunit_density = np.zeros((2**N, 2**N), dtype=complex)\n",
    "\n",
    "    for _ in range(samples):\n",
    "      params = np.random.uniform(-np.pi, np.pi, size)\n",
    "      ansatz = ansatze(params, N)\n",
    "      result = execute(ansatz, \n",
    "                       backend=Aer.get_backend('statevector_simulator')).result()\n",
    "      U = result.get_statevector(ansatz, decimals=5).reshape(-1,1)\n",
    "      randunit_density += np.kron(U, U.conj().T)\n",
    "\n",
    "    return randunit_density/samples"
   ]
  },
  {
   "cell_type": "markdown",
   "metadata": {
    "colab_type": "text",
    "id": "zoMyNHBjfT50"
   },
   "source": [
    "### Sanity Check (Comparing Two Haar Integrals)"
   ]
  },
  {
   "cell_type": "code",
   "execution_count": 28,
   "metadata": {
    "colab": {
     "base_uri": "https://localhost:8080/",
     "height": 34
    },
    "colab_type": "code",
    "id": "zFWvmyuufS71",
    "outputId": "7dfec0f2-ef9b-451c-9cfa-3244617e53e2"
   },
   "outputs": [
    {
     "data": {
      "text/plain": [
       "0.024868548351111183"
      ]
     },
     "execution_count": 28,
     "metadata": {},
     "output_type": "execute_result"
    }
   ],
   "source": [
    "np.linalg.norm(haar_integral(2, 2048) - haar_integral(2, 2048))"
   ]
  },
  {
   "cell_type": "markdown",
   "metadata": {
    "colab_type": "text",
    "id": "F6z2CNSyXBTa"
   },
   "source": [
    "### Ansatz 1 (Random Choice)"
   ]
  },
  {
   "cell_type": "code",
   "execution_count": 29,
   "metadata": {
    "colab": {
     "base_uri": "https://localhost:8080/",
     "height": 34
    },
    "colab_type": "code",
    "id": "TX5HePUlfxyv",
    "outputId": "e5240c67-7cce-4186-c4a0-bd1dc9d2dab8"
   },
   "outputs": [
    {
     "data": {
      "text/plain": [
       "0.02801342169578825"
      ]
     },
     "execution_count": 29,
     "metadata": {},
     "output_type": "execute_result"
    }
   ],
   "source": [
    "np.linalg.norm(haar_integral(2, 2048) - pqc_integral(2, ansatz1, (2,2), 2048))"
   ]
  },
  {
   "cell_type": "markdown",
   "metadata": {
    "colab_type": "text",
    "id": "aQFxWRfkf9kH"
   },
   "source": [
    "### Ansatz 2 (From Hint)"
   ]
  },
  {
   "cell_type": "code",
   "execution_count": 30,
   "metadata": {
    "colab": {
     "base_uri": "https://localhost:8080/",
     "height": 34
    },
    "colab_type": "code",
    "id": "rmCsAUnTf9kJ",
    "outputId": "3d95ae70-d799-4445-cec5-fc2303c9f6b7"
   },
   "outputs": [
    {
     "data": {
      "text/plain": [
       "0.5020624523202759"
      ]
     },
     "execution_count": 30,
     "metadata": {},
     "output_type": "execute_result"
    }
   ],
   "source": [
    "np.linalg.norm(haar_integral(2, 2048) - pqc_integral(2, ansatz2, 1, 2048))"
   ]
  },
  {
   "cell_type": "markdown",
   "metadata": {
    "colab_type": "text",
    "id": "UgYTJRQdgP4x"
   },
   "source": [
    "### Ansatz 3 (Empty Circuit)"
   ]
  },
  {
   "cell_type": "code",
   "execution_count": 31,
   "metadata": {
    "colab": {
     "base_uri": "https://localhost:8080/",
     "height": 34
    },
    "colab_type": "code",
    "id": "bWbj4jV5XBTm",
    "outputId": "68d75b93-e887-4ccb-8238-a281c4779388"
   },
   "outputs": [
    {
     "data": {
      "text/plain": [
       "0.8735321855793371"
      ]
     },
     "execution_count": 31,
     "metadata": {},
     "output_type": "execute_result"
    }
   ],
   "source": [
    "def ansatz3(params, num_qubits): \n",
    "    \"\"\"\n",
    "    Generate an templated ansatz with no parameters\n",
    "\n",
    "    Args:\n",
    "    params (array[float]): Parameters to initialize the parameterized unitary.\n",
    "    num_qubits (int): Number of qubits in the circuit.\n",
    "    \n",
    "    Returns:\n",
    "    ansatz (QuantumCircuit): Generated ansatz circuit\n",
    "\n",
    "    \"\"\"\n",
    "\n",
    "    ansatz = QuantumCircuit(num_qubits, num_qubits)\n",
    "    return ansatz\n",
    "\n",
    "np.linalg.norm(haar_integral(2, 2048) - pqc_integral(2, ansatz3, 0, 2048))"
   ]
  },
  {
   "cell_type": "markdown",
   "metadata": {
    "colab_type": "text",
    "id": "w3oLETUPgy8c"
   },
   "source": [
    "Clearly, expressibility are in the order: Ansatz 3 < Ansatz 2 < Ansatz 1, i.e. the power to probe Hilbert space is much more for our randomly chosen ansatz, which is guessable."
   ]
  },
  {
   "cell_type": "markdown",
   "metadata": {
    "colab_type": "text",
    "id": "1Gu9Lkwlm9eL"
   },
   "source": [
    "## Checking Entangling Capability of Ansatze"
   ]
  },
  {
   "cell_type": "markdown",
   "metadata": {
    "colab_type": "text",
    "id": "SdCJmeR-m9eN"
   },
   "source": [
    "We quantify entanlging capability [[1](https://arxiv.org/abs/1905.10876)] of ansatze by calculating the average Meyer-Wallach entanglement, $Q$, of the states generated by it:\n",
    "\n",
    "$$ Q = \\frac{2}{|S|}\\sum_{\\theta_{i}\\in S}\\Bigg(1-\\frac{1}{n}\\sum_{k=1}^{n}Tr(\\rho_{k}^{2}(\\theta_{i}))\\Bigg)$$\n",
    "\n",
    "Here, $\\rho_{k}$ is the density operator for the $k^{th}$ qubit after tracing out the rest, and $S$ is the set of sampled parameters. The quantity within the first summation can also be called as the average subsystem linear entropy for the system, and to calculate it we make use of qiskit's `partial_trace`. "
   ]
  },
  {
   "cell_type": "code",
   "execution_count": 32,
   "metadata": {
    "colab": {},
    "colab_type": "code",
    "id": "_gdJ51pOm9eO"
   },
   "outputs": [],
   "source": [
    "def meyer_wallach(circuit, num_qubits, size, sample=1024):\n",
    "    \"\"\"\n",
    "        Returns the meyer-wallach entanglement measure for the given circuit. \n",
    "    \"\"\"\n",
    "\n",
    "    res = np.zeros(sample, dtype=complex)\n",
    "    N = num_qubits\n",
    "\n",
    "    for i in range(sample):\n",
    "        params = np.random.uniform(-np.pi, np.pi, size)\n",
    "        ansatz = circuit(params, N)\n",
    "        result = execute(ansatz, \n",
    "                       backend=Aer.get_backend('statevector_simulator')).result()\n",
    "        U = result.get_statevector(ansatz, decimals=5)\n",
    "        entropy = 0\n",
    "        qb = list(range(N))\n",
    "\n",
    "        for j in range(N):\n",
    "            dens = quantum_info.partial_trace(U, qb[:j]+qb[j+1:]).data\n",
    "            trace = np.trace(dens**2)\n",
    "            entropy += trace\n",
    "\n",
    "        entropy /= N\n",
    "        res[i] = 1 - entropy\n",
    "    \n",
    "    return 2*np.sum(res).real/sample\n",
    "    "
   ]
  },
  {
   "cell_type": "markdown",
   "metadata": {
    "colab_type": "text",
    "id": "Q2A-EefCm9eT"
   },
   "source": [
    "### Sanity Check (Empty circuit aka Ansatz 3)"
   ]
  },
  {
   "cell_type": "code",
   "execution_count": 33,
   "metadata": {
    "colab": {
     "base_uri": "https://localhost:8080/",
     "height": 34
    },
    "colab_type": "code",
    "id": "fEEbjLBkm9eU",
    "outputId": "887369e5-61f0-4765-9706-256eddc2cd05"
   },
   "outputs": [
    {
     "data": {
      "text/plain": [
       "0.0"
      ]
     },
     "execution_count": 33,
     "metadata": {},
     "output_type": "execute_result"
    }
   ],
   "source": [
    "meyer_wallach(ansatz3, 2, 0)"
   ]
  },
  {
   "cell_type": "markdown",
   "metadata": {
    "colab_type": "text",
    "id": "OWjsNdYXm9eX"
   },
   "source": [
    "### Ansatz 1 (Random Choice)"
   ]
  },
  {
   "cell_type": "code",
   "execution_count": 34,
   "metadata": {
    "colab": {
     "base_uri": "https://localhost:8080/",
     "height": 34
    },
    "colab_type": "code",
    "id": "gwdXk44Pm9eY",
    "outputId": "eef494ab-46f4-4e66-ab75-2081a6300fe5"
   },
   "outputs": [
    {
     "data": {
      "text/plain": [
       "0.6275200677278762"
      ]
     },
     "execution_count": 34,
     "metadata": {},
     "output_type": "execute_result"
    }
   ],
   "source": [
    "meyer_wallach(ansatz1, 2, (2,2))"
   ]
  },
  {
   "cell_type": "markdown",
   "metadata": {
    "colab_type": "text",
    "id": "tpNvN4EAm9ea"
   },
   "source": [
    "### Ansatz 2 (From Hint)"
   ]
  },
  {
   "cell_type": "code",
   "execution_count": 35,
   "metadata": {
    "colab": {
     "base_uri": "https://localhost:8080/",
     "height": 34
    },
    "colab_type": "code",
    "id": "I4BOI42Dm9eb",
    "outputId": "7a103c54-9636-497e-d4d3-331ce802c574"
   },
   "outputs": [
    {
     "data": {
      "text/plain": [
       "1.0"
      ]
     },
     "execution_count": 35,
     "metadata": {},
     "output_type": "execute_result"
    }
   ],
   "source": [
    "meyer_wallach(ansatz2, 2, 1)"
   ]
  },
  {
   "cell_type": "markdown",
   "metadata": {
    "colab_type": "text",
    "id": "e-7AGUakm9eg"
   },
   "source": [
    "Clearly, the entangling capability are in the order: Ansatz 3 < Ansatz 1 < Ansatz 2. Therefore, we can guess limited expressibility of Ansatz 2 is compensated by its higher entangling capability. "
   ]
  },
  {
   "cell_type": "markdown",
   "metadata": {
    "colab_type": "text",
    "id": "VOGP0LJFXJc2"
   },
   "source": [
    "# **Running Simulations**"
   ]
  },
  {
   "cell_type": "markdown",
   "metadata": {
    "colab_type": "text",
    "id": "GyEQuPpGXbwT"
   },
   "source": [
    "***Variational Quantum Eigensolver (VQE)*** is based on *Rayleigh-Ritz variational principle*. To perform VQE, the first step is to enocde the problem into a Hermitian matrix $M$, whose expectation value w.r.t a trial wave function $|\\psi(\\theta)\\rangle$ which is yielded by an ansatz $U(\\theta)$, i.e., nothing but a unitary paramterized by $\\{\\vec{\\theta}\\}$. \n",
    "\n",
    "Here, we optimize these parameters $\\{\\vec{\\theta}\\}$ using `scipy.optimize` library based on a cost function $C(\\theta)$, which is nothing but the calculated expectation value of Hamiltonian, $H_1$ for $|\\psi(\\theta)\\rangle$:\n",
    "$$ C(\\theta) = \\langle \\psi (\\theta) | H_{1} | \\psi (\\theta) \\rangle $$ "
   ]
  },
  {
   "cell_type": "code",
   "execution_count": 45,
   "metadata": {
    "colab": {},
    "colab_type": "code",
    "id": "pDlWLPN2NuJN"
   },
   "outputs": [],
   "source": [
    "def vqe(params, meas_basis, coeffs, circuit, num_qubits, shots=2048):\n",
    "    \"\"\"\n",
    "        Return the calculated energy scalar for a given asnatz and \n",
    "        decomposed Hamiltoian. \n",
    "\n",
    "        Args:\n",
    "        params (matrix(np.array)): Parameters for initializing the ansatz.\n",
    "        meas_basis (list[str]): String representation of measurement basis, i.e.\n",
    "        the decomposed pauli term with their corresponding qubits.\n",
    "        coeffs (vector(np.array)): Coefficients for the decomposed Pauli Term\n",
    "        circuit (QuantumCircuit): Template for Ansatz circuit \n",
    "        num_qubits (int): Number of qubits in the given asatze.\n",
    "        shots (int): Number of shots to get the probability distribution.\n",
    "\n",
    "        Return:\n",
    "        energy (float): Expectation value of the Hamiltonian whose \n",
    "        decomposition was provided.\n",
    "    \"\"\"\n",
    "    \n",
    "    N = num_qubits\n",
    "    circuit = circuit(params, num_qubits)\n",
    "    energy = 0\n",
    "\n",
    "    for basis, coeff in zip(meas_basis, coeffs):\n",
    "      if basis.count('I') != N:\n",
    "        energy += coeff*calculate_expecation_val(circuit, basis, shots)\n",
    "\n",
    "    energy += 0.5\n",
    "\n",
    "    return energy"
   ]
  },
  {
   "cell_type": "markdown",
   "metadata": {
    "colab_type": "text",
    "id": "WcJHJegsXbwY"
   },
   "source": [
    "## Ansatz 1 (Random Choice)"
   ]
  },
  {
   "cell_type": "code",
   "execution_count": 65,
   "metadata": {
    "colab": {},
    "colab_type": "code",
    "id": "wetNkNTwXbwb"
   },
   "outputs": [],
   "source": [
    "a, b, c = decompose_ham_to_pauli(H1)\n",
    "\n",
    "params = np.random.uniform(-np.pi, np.pi, (2,2))\n",
    "func = ft.partial(vqe, meas_basis=a, coeffs=b, circuit=ansatz1, \n",
    "                  num_qubits=2, shots=2048)\n"
   ]
  },
  {
   "cell_type": "code",
   "execution_count": 66,
   "metadata": {
    "colab": {
     "base_uri": "https://localhost:8080/",
     "height": 272
    },
    "colab_type": "code",
    "id": "Mk9zZdnrDeew",
    "outputId": "2e889bb9-fc1f-4c56-adee-5f8b0f8fe996",
    "scrolled": true
   },
   "outputs": [
    {
     "data": {
      "text/plain": [
       "   direc: array([[1., 0., 0., 0.],\n",
       "       [0., 1., 0., 0.],\n",
       "       [0., 0., 1., 0.],\n",
       "       [0., 0., 0., 1.]])\n",
       "     fun: array(-1.)\n",
       " message: 'Optimization terminated successfully.'\n",
       "    nfev: 207\n",
       "     nit: 3\n",
       "  status: 0\n",
       " success: True\n",
       "       x: array([ 1.61310921, -3.12431234,  1.35341832, -0.23702938])"
      ]
     },
     "execution_count": 66,
     "metadata": {},
     "output_type": "execute_result"
    }
   ],
   "source": [
    "res = sp.optimize.minimize(func, params, method='Powell')\n",
    "res"
   ]
  },
  {
   "cell_type": "code",
   "execution_count": 67,
   "metadata": {
    "colab": {},
    "colab_type": "code",
    "id": "eTXvA0CvEIsV"
   },
   "outputs": [],
   "source": [
    "assert(float(res.fun) == min(np.linalg.eig(H1)[0])) #Sanity Check"
   ]
  },
  {
   "cell_type": "markdown",
   "metadata": {
    "colab_type": "text",
    "id": "6U-hkS3iNEMg"
   },
   "source": [
    "### Visualizing the Result"
   ]
  },
  {
   "cell_type": "markdown",
   "metadata": {
    "colab_type": "text",
    "id": "jDDt8-XXcW2g"
   },
   "source": [
    "After looking at multiple results' `res.x`, we realize that first and second parameters always have the values $\\pm\\pi/2$ and $\\pm\\pi$ respectively. So, while keeping them fixed, we do a parameters search-scan in the range $\\theta_{3,4} \\in [0,2\\pi]$ and visualize how they affect our expectation value. "
   ]
  },
  {
   "cell_type": "code",
   "execution_count": 68,
   "metadata": {
    "colab": {
     "base_uri": "https://localhost:8080/",
     "height": 248
    },
    "colab_type": "code",
    "id": "MsTA8Z59NN_P",
    "outputId": "141f9cd6-3f4e-42f6-8e25-10e2fb701715"
   },
   "outputs": [
    {
     "data": {
      "application/javascript": [
       "/* Put everything inside the global mpl namespace */\n",
       "/* global mpl */\n",
       "window.mpl = {};\n",
       "\n",
       "mpl.get_websocket_type = function () {\n",
       "    if (typeof WebSocket !== 'undefined') {\n",
       "        return WebSocket;\n",
       "    } else if (typeof MozWebSocket !== 'undefined') {\n",
       "        return MozWebSocket;\n",
       "    } else {\n",
       "        alert(\n",
       "            'Your browser does not have WebSocket support. ' +\n",
       "                'Please try Chrome, Safari or Firefox ≥ 6. ' +\n",
       "                'Firefox 4 and 5 are also supported but you ' +\n",
       "                'have to enable WebSockets in about:config.'\n",
       "        );\n",
       "    }\n",
       "};\n",
       "\n",
       "mpl.figure = function (figure_id, websocket, ondownload, parent_element) {\n",
       "    this.id = figure_id;\n",
       "\n",
       "    this.ws = websocket;\n",
       "\n",
       "    this.supports_binary = this.ws.binaryType !== undefined;\n",
       "\n",
       "    if (!this.supports_binary) {\n",
       "        var warnings = document.getElementById('mpl-warnings');\n",
       "        if (warnings) {\n",
       "            warnings.style.display = 'block';\n",
       "            warnings.textContent =\n",
       "                'This browser does not support binary websocket messages. ' +\n",
       "                'Performance may be slow.';\n",
       "        }\n",
       "    }\n",
       "\n",
       "    this.imageObj = new Image();\n",
       "\n",
       "    this.context = undefined;\n",
       "    this.message = undefined;\n",
       "    this.canvas = undefined;\n",
       "    this.rubberband_canvas = undefined;\n",
       "    this.rubberband_context = undefined;\n",
       "    this.format_dropdown = undefined;\n",
       "\n",
       "    this.image_mode = 'full';\n",
       "\n",
       "    this.root = document.createElement('div');\n",
       "    this.root.setAttribute('style', 'display: inline-block');\n",
       "    this._root_extra_style(this.root);\n",
       "\n",
       "    parent_element.appendChild(this.root);\n",
       "\n",
       "    this._init_header(this);\n",
       "    this._init_canvas(this);\n",
       "    this._init_toolbar(this);\n",
       "\n",
       "    var fig = this;\n",
       "\n",
       "    this.waiting = false;\n",
       "\n",
       "    this.ws.onopen = function () {\n",
       "        fig.send_message('supports_binary', { value: fig.supports_binary });\n",
       "        fig.send_message('send_image_mode', {});\n",
       "        if (mpl.ratio !== 1) {\n",
       "            fig.send_message('set_dpi_ratio', { dpi_ratio: mpl.ratio });\n",
       "        }\n",
       "        fig.send_message('refresh', {});\n",
       "    };\n",
       "\n",
       "    this.imageObj.onload = function () {\n",
       "        if (fig.image_mode === 'full') {\n",
       "            // Full images could contain transparency (where diff images\n",
       "            // almost always do), so we need to clear the canvas so that\n",
       "            // there is no ghosting.\n",
       "            fig.context.clearRect(0, 0, fig.canvas.width, fig.canvas.height);\n",
       "        }\n",
       "        fig.context.drawImage(fig.imageObj, 0, 0);\n",
       "    };\n",
       "\n",
       "    this.imageObj.onunload = function () {\n",
       "        fig.ws.close();\n",
       "    };\n",
       "\n",
       "    this.ws.onmessage = this._make_on_message_function(this);\n",
       "\n",
       "    this.ondownload = ondownload;\n",
       "};\n",
       "\n",
       "mpl.figure.prototype._init_header = function () {\n",
       "    var titlebar = document.createElement('div');\n",
       "    titlebar.classList =\n",
       "        'ui-dialog-titlebar ui-widget-header ui-corner-all ui-helper-clearfix';\n",
       "    var titletext = document.createElement('div');\n",
       "    titletext.classList = 'ui-dialog-title';\n",
       "    titletext.setAttribute(\n",
       "        'style',\n",
       "        'width: 100%; text-align: center; padding: 3px;'\n",
       "    );\n",
       "    titlebar.appendChild(titletext);\n",
       "    this.root.appendChild(titlebar);\n",
       "    this.header = titletext;\n",
       "};\n",
       "\n",
       "mpl.figure.prototype._canvas_extra_style = function (_canvas_div) {};\n",
       "\n",
       "mpl.figure.prototype._root_extra_style = function (_canvas_div) {};\n",
       "\n",
       "mpl.figure.prototype._init_canvas = function () {\n",
       "    var fig = this;\n",
       "\n",
       "    var canvas_div = (this.canvas_div = document.createElement('div'));\n",
       "    canvas_div.setAttribute(\n",
       "        'style',\n",
       "        'border: 1px solid #ddd;' +\n",
       "            'box-sizing: content-box;' +\n",
       "            'clear: both;' +\n",
       "            'min-height: 1px;' +\n",
       "            'min-width: 1px;' +\n",
       "            'outline: 0;' +\n",
       "            'overflow: hidden;' +\n",
       "            'position: relative;' +\n",
       "            'resize: both;'\n",
       "    );\n",
       "\n",
       "    function on_keyboard_event_closure(name) {\n",
       "        return function (event) {\n",
       "            return fig.key_event(event, name);\n",
       "        };\n",
       "    }\n",
       "\n",
       "    canvas_div.addEventListener(\n",
       "        'keydown',\n",
       "        on_keyboard_event_closure('key_press')\n",
       "    );\n",
       "    canvas_div.addEventListener(\n",
       "        'keyup',\n",
       "        on_keyboard_event_closure('key_release')\n",
       "    );\n",
       "\n",
       "    this._canvas_extra_style(canvas_div);\n",
       "    this.root.appendChild(canvas_div);\n",
       "\n",
       "    var canvas = (this.canvas = document.createElement('canvas'));\n",
       "    canvas.classList.add('mpl-canvas');\n",
       "    canvas.setAttribute('style', 'box-sizing: content-box;');\n",
       "\n",
       "    this.context = canvas.getContext('2d');\n",
       "\n",
       "    var backingStore =\n",
       "        this.context.backingStorePixelRatio ||\n",
       "        this.context.webkitBackingStorePixelRatio ||\n",
       "        this.context.mozBackingStorePixelRatio ||\n",
       "        this.context.msBackingStorePixelRatio ||\n",
       "        this.context.oBackingStorePixelRatio ||\n",
       "        this.context.backingStorePixelRatio ||\n",
       "        1;\n",
       "\n",
       "    mpl.ratio = (window.devicePixelRatio || 1) / backingStore;\n",
       "\n",
       "    var rubberband_canvas = (this.rubberband_canvas = document.createElement(\n",
       "        'canvas'\n",
       "    ));\n",
       "    rubberband_canvas.setAttribute(\n",
       "        'style',\n",
       "        'box-sizing: content-box; position: absolute; left: 0; top: 0; z-index: 1;'\n",
       "    );\n",
       "\n",
       "    var resizeObserver = new ResizeObserver(function (entries) {\n",
       "        var nentries = entries.length;\n",
       "        for (var i = 0; i < nentries; i++) {\n",
       "            var entry = entries[i];\n",
       "            var width, height;\n",
       "            if (entry.contentBoxSize) {\n",
       "                if (entry.contentBoxSize instanceof Array) {\n",
       "                    // Chrome 84 implements new version of spec.\n",
       "                    width = entry.contentBoxSize[0].inlineSize;\n",
       "                    height = entry.contentBoxSize[0].blockSize;\n",
       "                } else {\n",
       "                    // Firefox implements old version of spec.\n",
       "                    width = entry.contentBoxSize.inlineSize;\n",
       "                    height = entry.contentBoxSize.blockSize;\n",
       "                }\n",
       "            } else {\n",
       "                // Chrome <84 implements even older version of spec.\n",
       "                width = entry.contentRect.width;\n",
       "                height = entry.contentRect.height;\n",
       "            }\n",
       "\n",
       "            // Keep the size of the canvas and rubber band canvas in sync with\n",
       "            // the canvas container.\n",
       "            if (entry.devicePixelContentBoxSize) {\n",
       "                // Chrome 84 implements new version of spec.\n",
       "                canvas.setAttribute(\n",
       "                    'width',\n",
       "                    entry.devicePixelContentBoxSize[0].inlineSize\n",
       "                );\n",
       "                canvas.setAttribute(\n",
       "                    'height',\n",
       "                    entry.devicePixelContentBoxSize[0].blockSize\n",
       "                );\n",
       "            } else {\n",
       "                canvas.setAttribute('width', width * mpl.ratio);\n",
       "                canvas.setAttribute('height', height * mpl.ratio);\n",
       "            }\n",
       "            canvas.setAttribute(\n",
       "                'style',\n",
       "                'width: ' + width + 'px; height: ' + height + 'px;'\n",
       "            );\n",
       "\n",
       "            rubberband_canvas.setAttribute('width', width);\n",
       "            rubberband_canvas.setAttribute('height', height);\n",
       "\n",
       "            // And update the size in Python. We ignore the initial 0/0 size\n",
       "            // that occurs as the element is placed into the DOM, which should\n",
       "            // otherwise not happen due to the minimum size styling.\n",
       "            if (width != 0 && height != 0) {\n",
       "                fig.request_resize(width, height);\n",
       "            }\n",
       "        }\n",
       "    });\n",
       "    resizeObserver.observe(canvas_div);\n",
       "\n",
       "    function on_mouse_event_closure(name) {\n",
       "        return function (event) {\n",
       "            return fig.mouse_event(event, name);\n",
       "        };\n",
       "    }\n",
       "\n",
       "    rubberband_canvas.addEventListener(\n",
       "        'mousedown',\n",
       "        on_mouse_event_closure('button_press')\n",
       "    );\n",
       "    rubberband_canvas.addEventListener(\n",
       "        'mouseup',\n",
       "        on_mouse_event_closure('button_release')\n",
       "    );\n",
       "    // Throttle sequential mouse events to 1 every 20ms.\n",
       "    rubberband_canvas.addEventListener(\n",
       "        'mousemove',\n",
       "        on_mouse_event_closure('motion_notify')\n",
       "    );\n",
       "\n",
       "    rubberband_canvas.addEventListener(\n",
       "        'mouseenter',\n",
       "        on_mouse_event_closure('figure_enter')\n",
       "    );\n",
       "    rubberband_canvas.addEventListener(\n",
       "        'mouseleave',\n",
       "        on_mouse_event_closure('figure_leave')\n",
       "    );\n",
       "\n",
       "    canvas_div.addEventListener('wheel', function (event) {\n",
       "        if (event.deltaY < 0) {\n",
       "            event.step = 1;\n",
       "        } else {\n",
       "            event.step = -1;\n",
       "        }\n",
       "        on_mouse_event_closure('scroll')(event);\n",
       "    });\n",
       "\n",
       "    canvas_div.appendChild(canvas);\n",
       "    canvas_div.appendChild(rubberband_canvas);\n",
       "\n",
       "    this.rubberband_context = rubberband_canvas.getContext('2d');\n",
       "    this.rubberband_context.strokeStyle = '#000000';\n",
       "\n",
       "    this._resize_canvas = function (width, height, forward) {\n",
       "        if (forward) {\n",
       "            canvas_div.style.width = width + 'px';\n",
       "            canvas_div.style.height = height + 'px';\n",
       "        }\n",
       "    };\n",
       "\n",
       "    // Disable right mouse context menu.\n",
       "    this.rubberband_canvas.addEventListener('contextmenu', function (_e) {\n",
       "        event.preventDefault();\n",
       "        return false;\n",
       "    });\n",
       "\n",
       "    function set_focus() {\n",
       "        canvas.focus();\n",
       "        canvas_div.focus();\n",
       "    }\n",
       "\n",
       "    window.setTimeout(set_focus, 100);\n",
       "};\n",
       "\n",
       "mpl.figure.prototype._init_toolbar = function () {\n",
       "    var fig = this;\n",
       "\n",
       "    var toolbar = document.createElement('div');\n",
       "    toolbar.classList = 'mpl-toolbar';\n",
       "    this.root.appendChild(toolbar);\n",
       "\n",
       "    function on_click_closure(name) {\n",
       "        return function (_event) {\n",
       "            return fig.toolbar_button_onclick(name);\n",
       "        };\n",
       "    }\n",
       "\n",
       "    function on_mouseover_closure(tooltip) {\n",
       "        return function (event) {\n",
       "            if (!event.currentTarget.disabled) {\n",
       "                return fig.toolbar_button_onmouseover(tooltip);\n",
       "            }\n",
       "        };\n",
       "    }\n",
       "\n",
       "    fig.buttons = {};\n",
       "    var buttonGroup = document.createElement('div');\n",
       "    buttonGroup.classList = 'mpl-button-group';\n",
       "    for (var toolbar_ind in mpl.toolbar_items) {\n",
       "        var name = mpl.toolbar_items[toolbar_ind][0];\n",
       "        var tooltip = mpl.toolbar_items[toolbar_ind][1];\n",
       "        var image = mpl.toolbar_items[toolbar_ind][2];\n",
       "        var method_name = mpl.toolbar_items[toolbar_ind][3];\n",
       "\n",
       "        if (!name) {\n",
       "            /* Instead of a spacer, we start a new button group. */\n",
       "            if (buttonGroup.hasChildNodes()) {\n",
       "                toolbar.appendChild(buttonGroup);\n",
       "            }\n",
       "            buttonGroup = document.createElement('div');\n",
       "            buttonGroup.classList = 'mpl-button-group';\n",
       "            continue;\n",
       "        }\n",
       "\n",
       "        var button = (fig.buttons[name] = document.createElement('button'));\n",
       "        button.classList = 'mpl-widget';\n",
       "        button.setAttribute('role', 'button');\n",
       "        button.setAttribute('aria-disabled', 'false');\n",
       "        button.addEventListener('click', on_click_closure(method_name));\n",
       "        button.addEventListener('mouseover', on_mouseover_closure(tooltip));\n",
       "\n",
       "        var icon_img = document.createElement('img');\n",
       "        icon_img.src = '_images/' + image + '.png';\n",
       "        icon_img.srcset = '_images/' + image + '_large.png 2x';\n",
       "        icon_img.alt = tooltip;\n",
       "        button.appendChild(icon_img);\n",
       "\n",
       "        buttonGroup.appendChild(button);\n",
       "    }\n",
       "\n",
       "    if (buttonGroup.hasChildNodes()) {\n",
       "        toolbar.appendChild(buttonGroup);\n",
       "    }\n",
       "\n",
       "    var fmt_picker = document.createElement('select');\n",
       "    fmt_picker.classList = 'mpl-widget';\n",
       "    toolbar.appendChild(fmt_picker);\n",
       "    this.format_dropdown = fmt_picker;\n",
       "\n",
       "    for (var ind in mpl.extensions) {\n",
       "        var fmt = mpl.extensions[ind];\n",
       "        var option = document.createElement('option');\n",
       "        option.selected = fmt === mpl.default_extension;\n",
       "        option.innerHTML = fmt;\n",
       "        fmt_picker.appendChild(option);\n",
       "    }\n",
       "\n",
       "    var status_bar = document.createElement('span');\n",
       "    status_bar.classList = 'mpl-message';\n",
       "    toolbar.appendChild(status_bar);\n",
       "    this.message = status_bar;\n",
       "};\n",
       "\n",
       "mpl.figure.prototype.request_resize = function (x_pixels, y_pixels) {\n",
       "    // Request matplotlib to resize the figure. Matplotlib will then trigger a resize in the client,\n",
       "    // which will in turn request a refresh of the image.\n",
       "    this.send_message('resize', { width: x_pixels, height: y_pixels });\n",
       "};\n",
       "\n",
       "mpl.figure.prototype.send_message = function (type, properties) {\n",
       "    properties['type'] = type;\n",
       "    properties['figure_id'] = this.id;\n",
       "    this.ws.send(JSON.stringify(properties));\n",
       "};\n",
       "\n",
       "mpl.figure.prototype.send_draw_message = function () {\n",
       "    if (!this.waiting) {\n",
       "        this.waiting = true;\n",
       "        this.ws.send(JSON.stringify({ type: 'draw', figure_id: this.id }));\n",
       "    }\n",
       "};\n",
       "\n",
       "mpl.figure.prototype.handle_save = function (fig, _msg) {\n",
       "    var format_dropdown = fig.format_dropdown;\n",
       "    var format = format_dropdown.options[format_dropdown.selectedIndex].value;\n",
       "    fig.ondownload(fig, format);\n",
       "};\n",
       "\n",
       "mpl.figure.prototype.handle_resize = function (fig, msg) {\n",
       "    var size = msg['size'];\n",
       "    if (size[0] !== fig.canvas.width || size[1] !== fig.canvas.height) {\n",
       "        fig._resize_canvas(size[0], size[1], msg['forward']);\n",
       "        fig.send_message('refresh', {});\n",
       "    }\n",
       "};\n",
       "\n",
       "mpl.figure.prototype.handle_rubberband = function (fig, msg) {\n",
       "    var x0 = msg['x0'] / mpl.ratio;\n",
       "    var y0 = (fig.canvas.height - msg['y0']) / mpl.ratio;\n",
       "    var x1 = msg['x1'] / mpl.ratio;\n",
       "    var y1 = (fig.canvas.height - msg['y1']) / mpl.ratio;\n",
       "    x0 = Math.floor(x0) + 0.5;\n",
       "    y0 = Math.floor(y0) + 0.5;\n",
       "    x1 = Math.floor(x1) + 0.5;\n",
       "    y1 = Math.floor(y1) + 0.5;\n",
       "    var min_x = Math.min(x0, x1);\n",
       "    var min_y = Math.min(y0, y1);\n",
       "    var width = Math.abs(x1 - x0);\n",
       "    var height = Math.abs(y1 - y0);\n",
       "\n",
       "    fig.rubberband_context.clearRect(\n",
       "        0,\n",
       "        0,\n",
       "        fig.canvas.width / mpl.ratio,\n",
       "        fig.canvas.height / mpl.ratio\n",
       "    );\n",
       "\n",
       "    fig.rubberband_context.strokeRect(min_x, min_y, width, height);\n",
       "};\n",
       "\n",
       "mpl.figure.prototype.handle_figure_label = function (fig, msg) {\n",
       "    // Updates the figure title.\n",
       "    fig.header.textContent = msg['label'];\n",
       "};\n",
       "\n",
       "mpl.figure.prototype.handle_cursor = function (fig, msg) {\n",
       "    var cursor = msg['cursor'];\n",
       "    switch (cursor) {\n",
       "        case 0:\n",
       "            cursor = 'pointer';\n",
       "            break;\n",
       "        case 1:\n",
       "            cursor = 'default';\n",
       "            break;\n",
       "        case 2:\n",
       "            cursor = 'crosshair';\n",
       "            break;\n",
       "        case 3:\n",
       "            cursor = 'move';\n",
       "            break;\n",
       "    }\n",
       "    fig.rubberband_canvas.style.cursor = cursor;\n",
       "};\n",
       "\n",
       "mpl.figure.prototype.handle_message = function (fig, msg) {\n",
       "    fig.message.textContent = msg['message'];\n",
       "};\n",
       "\n",
       "mpl.figure.prototype.handle_draw = function (fig, _msg) {\n",
       "    // Request the server to send over a new figure.\n",
       "    fig.send_draw_message();\n",
       "};\n",
       "\n",
       "mpl.figure.prototype.handle_image_mode = function (fig, msg) {\n",
       "    fig.image_mode = msg['mode'];\n",
       "};\n",
       "\n",
       "mpl.figure.prototype.handle_history_buttons = function (fig, msg) {\n",
       "    for (var key in msg) {\n",
       "        if (!(key in fig.buttons)) {\n",
       "            continue;\n",
       "        }\n",
       "        fig.buttons[key].disabled = !msg[key];\n",
       "        fig.buttons[key].setAttribute('aria-disabled', !msg[key]);\n",
       "    }\n",
       "};\n",
       "\n",
       "mpl.figure.prototype.handle_navigate_mode = function (fig, msg) {\n",
       "    if (msg['mode'] === 'PAN') {\n",
       "        fig.buttons['Pan'].classList.add('active');\n",
       "        fig.buttons['Zoom'].classList.remove('active');\n",
       "    } else if (msg['mode'] === 'ZOOM') {\n",
       "        fig.buttons['Pan'].classList.remove('active');\n",
       "        fig.buttons['Zoom'].classList.add('active');\n",
       "    } else {\n",
       "        fig.buttons['Pan'].classList.remove('active');\n",
       "        fig.buttons['Zoom'].classList.remove('active');\n",
       "    }\n",
       "};\n",
       "\n",
       "mpl.figure.prototype.updated_canvas_event = function () {\n",
       "    // Called whenever the canvas gets updated.\n",
       "    this.send_message('ack', {});\n",
       "};\n",
       "\n",
       "// A function to construct a web socket function for onmessage handling.\n",
       "// Called in the figure constructor.\n",
       "mpl.figure.prototype._make_on_message_function = function (fig) {\n",
       "    return function socket_on_message(evt) {\n",
       "        if (evt.data instanceof Blob) {\n",
       "            /* FIXME: We get \"Resource interpreted as Image but\n",
       "             * transferred with MIME type text/plain:\" errors on\n",
       "             * Chrome.  But how to set the MIME type?  It doesn't seem\n",
       "             * to be part of the websocket stream */\n",
       "            evt.data.type = 'image/png';\n",
       "\n",
       "            /* Free the memory for the previous frames */\n",
       "            if (fig.imageObj.src) {\n",
       "                (window.URL || window.webkitURL).revokeObjectURL(\n",
       "                    fig.imageObj.src\n",
       "                );\n",
       "            }\n",
       "\n",
       "            fig.imageObj.src = (window.URL || window.webkitURL).createObjectURL(\n",
       "                evt.data\n",
       "            );\n",
       "            fig.updated_canvas_event();\n",
       "            fig.waiting = false;\n",
       "            return;\n",
       "        } else if (\n",
       "            typeof evt.data === 'string' &&\n",
       "            evt.data.slice(0, 21) === 'data:image/png;base64'\n",
       "        ) {\n",
       "            fig.imageObj.src = evt.data;\n",
       "            fig.updated_canvas_event();\n",
       "            fig.waiting = false;\n",
       "            return;\n",
       "        }\n",
       "\n",
       "        var msg = JSON.parse(evt.data);\n",
       "        var msg_type = msg['type'];\n",
       "\n",
       "        // Call the  \"handle_{type}\" callback, which takes\n",
       "        // the figure and JSON message as its only arguments.\n",
       "        try {\n",
       "            var callback = fig['handle_' + msg_type];\n",
       "        } catch (e) {\n",
       "            console.log(\n",
       "                \"No handler for the '\" + msg_type + \"' message type: \",\n",
       "                msg\n",
       "            );\n",
       "            return;\n",
       "        }\n",
       "\n",
       "        if (callback) {\n",
       "            try {\n",
       "                // console.log(\"Handling '\" + msg_type + \"' message: \", msg);\n",
       "                callback(fig, msg);\n",
       "            } catch (e) {\n",
       "                console.log(\n",
       "                    \"Exception inside the 'handler_\" + msg_type + \"' callback:\",\n",
       "                    e,\n",
       "                    e.stack,\n",
       "                    msg\n",
       "                );\n",
       "            }\n",
       "        }\n",
       "    };\n",
       "};\n",
       "\n",
       "// from http://stackoverflow.com/questions/1114465/getting-mouse-location-in-canvas\n",
       "mpl.findpos = function (e) {\n",
       "    //this section is from http://www.quirksmode.org/js/events_properties.html\n",
       "    var targ;\n",
       "    if (!e) {\n",
       "        e = window.event;\n",
       "    }\n",
       "    if (e.target) {\n",
       "        targ = e.target;\n",
       "    } else if (e.srcElement) {\n",
       "        targ = e.srcElement;\n",
       "    }\n",
       "    if (targ.nodeType === 3) {\n",
       "        // defeat Safari bug\n",
       "        targ = targ.parentNode;\n",
       "    }\n",
       "\n",
       "    // pageX,Y are the mouse positions relative to the document\n",
       "    var boundingRect = targ.getBoundingClientRect();\n",
       "    var x = e.pageX - (boundingRect.left + document.body.scrollLeft);\n",
       "    var y = e.pageY - (boundingRect.top + document.body.scrollTop);\n",
       "\n",
       "    return { x: x, y: y };\n",
       "};\n",
       "\n",
       "/*\n",
       " * return a copy of an object with only non-object keys\n",
       " * we need this to avoid circular references\n",
       " * http://stackoverflow.com/a/24161582/3208463\n",
       " */\n",
       "function simpleKeys(original) {\n",
       "    return Object.keys(original).reduce(function (obj, key) {\n",
       "        if (typeof original[key] !== 'object') {\n",
       "            obj[key] = original[key];\n",
       "        }\n",
       "        return obj;\n",
       "    }, {});\n",
       "}\n",
       "\n",
       "mpl.figure.prototype.mouse_event = function (event, name) {\n",
       "    var canvas_pos = mpl.findpos(event);\n",
       "\n",
       "    if (name === 'button_press') {\n",
       "        this.canvas.focus();\n",
       "        this.canvas_div.focus();\n",
       "    }\n",
       "\n",
       "    var x = canvas_pos.x * mpl.ratio;\n",
       "    var y = canvas_pos.y * mpl.ratio;\n",
       "\n",
       "    this.send_message(name, {\n",
       "        x: x,\n",
       "        y: y,\n",
       "        button: event.button,\n",
       "        step: event.step,\n",
       "        guiEvent: simpleKeys(event),\n",
       "    });\n",
       "\n",
       "    /* This prevents the web browser from automatically changing to\n",
       "     * the text insertion cursor when the button is pressed.  We want\n",
       "     * to control all of the cursor setting manually through the\n",
       "     * 'cursor' event from matplotlib */\n",
       "    event.preventDefault();\n",
       "    return false;\n",
       "};\n",
       "\n",
       "mpl.figure.prototype._key_event_extra = function (_event, _name) {\n",
       "    // Handle any extra behaviour associated with a key event\n",
       "};\n",
       "\n",
       "mpl.figure.prototype.key_event = function (event, name) {\n",
       "    // Prevent repeat events\n",
       "    if (name === 'key_press') {\n",
       "        if (event.which === this._key) {\n",
       "            return;\n",
       "        } else {\n",
       "            this._key = event.which;\n",
       "        }\n",
       "    }\n",
       "    if (name === 'key_release') {\n",
       "        this._key = null;\n",
       "    }\n",
       "\n",
       "    var value = '';\n",
       "    if (event.ctrlKey && event.which !== 17) {\n",
       "        value += 'ctrl+';\n",
       "    }\n",
       "    if (event.altKey && event.which !== 18) {\n",
       "        value += 'alt+';\n",
       "    }\n",
       "    if (event.shiftKey && event.which !== 16) {\n",
       "        value += 'shift+';\n",
       "    }\n",
       "\n",
       "    value += 'k';\n",
       "    value += event.which.toString();\n",
       "\n",
       "    this._key_event_extra(event, name);\n",
       "\n",
       "    this.send_message(name, { key: value, guiEvent: simpleKeys(event) });\n",
       "    return false;\n",
       "};\n",
       "\n",
       "mpl.figure.prototype.toolbar_button_onclick = function (name) {\n",
       "    if (name === 'download') {\n",
       "        this.handle_save(this, null);\n",
       "    } else {\n",
       "        this.send_message('toolbar_button', { name: name });\n",
       "    }\n",
       "};\n",
       "\n",
       "mpl.figure.prototype.toolbar_button_onmouseover = function (tooltip) {\n",
       "    this.message.textContent = tooltip;\n",
       "};\n",
       "mpl.toolbar_items = [[\"Home\", \"Reset original view\", \"fa fa-home icon-home\", \"home\"], [\"Back\", \"Back to previous view\", \"fa fa-arrow-left icon-arrow-left\", \"back\"], [\"Forward\", \"Forward to next view\", \"fa fa-arrow-right icon-arrow-right\", \"forward\"], [\"\", \"\", \"\", \"\"], [\"Pan\", \"Left button pans, Right button zooms\\nx/y fixes axis, CTRL fixes aspect\", \"fa fa-arrows icon-move\", \"pan\"], [\"Zoom\", \"Zoom to rectangle\\nx/y fixes axis, CTRL fixes aspect\", \"fa fa-square-o icon-check-empty\", \"zoom\"], [\"\", \"\", \"\", \"\"], [\"Download\", \"Download plot\", \"fa fa-floppy-o icon-save\", \"download\"]];\n",
       "\n",
       "mpl.extensions = [\"eps\", \"jpeg\", \"pdf\", \"png\", \"ps\", \"raw\", \"svg\", \"tif\"];\n",
       "\n",
       "mpl.default_extension = \"png\";/* global mpl */\n",
       "\n",
       "var comm_websocket_adapter = function (comm) {\n",
       "    // Create a \"websocket\"-like object which calls the given IPython comm\n",
       "    // object with the appropriate methods. Currently this is a non binary\n",
       "    // socket, so there is still some room for performance tuning.\n",
       "    var ws = {};\n",
       "\n",
       "    ws.close = function () {\n",
       "        comm.close();\n",
       "    };\n",
       "    ws.send = function (m) {\n",
       "        //console.log('sending', m);\n",
       "        comm.send(m);\n",
       "    };\n",
       "    // Register the callback with on_msg.\n",
       "    comm.on_msg(function (msg) {\n",
       "        //console.log('receiving', msg['content']['data'], msg);\n",
       "        // Pass the mpl event to the overridden (by mpl) onmessage function.\n",
       "        ws.onmessage(msg['content']['data']);\n",
       "    });\n",
       "    return ws;\n",
       "};\n",
       "\n",
       "mpl.mpl_figure_comm = function (comm, msg) {\n",
       "    // This is the function which gets called when the mpl process\n",
       "    // starts-up an IPython Comm through the \"matplotlib\" channel.\n",
       "\n",
       "    var id = msg.content.data.id;\n",
       "    // Get hold of the div created by the display call when the Comm\n",
       "    // socket was opened in Python.\n",
       "    var element = document.getElementById(id);\n",
       "    var ws_proxy = comm_websocket_adapter(comm);\n",
       "\n",
       "    function ondownload(figure, _format) {\n",
       "        window.open(figure.canvas.toDataURL());\n",
       "    }\n",
       "\n",
       "    var fig = new mpl.figure(id, ws_proxy, ondownload, element);\n",
       "\n",
       "    // Call onopen now - mpl needs it, as it is assuming we've passed it a real\n",
       "    // web socket which is closed, not our websocket->open comm proxy.\n",
       "    ws_proxy.onopen();\n",
       "\n",
       "    fig.parent_element = element;\n",
       "    fig.cell_info = mpl.find_output_cell(\"<div id='\" + id + \"'></div>\");\n",
       "    if (!fig.cell_info) {\n",
       "        console.error('Failed to find cell for figure', id, fig);\n",
       "        return;\n",
       "    }\n",
       "};\n",
       "\n",
       "mpl.figure.prototype.handle_close = function (fig, msg) {\n",
       "    var width = fig.canvas.width / mpl.ratio;\n",
       "    fig.root.removeEventListener('remove', this._remove_fig_handler);\n",
       "\n",
       "    // Update the output cell to use the data from the current canvas.\n",
       "    fig.push_to_output();\n",
       "    var dataURL = fig.canvas.toDataURL();\n",
       "    // Re-enable the keyboard manager in IPython - without this line, in FF,\n",
       "    // the notebook keyboard shortcuts fail.\n",
       "    IPython.keyboard_manager.enable();\n",
       "    fig.parent_element.innerHTML =\n",
       "        '<img src=\"' + dataURL + '\" width=\"' + width + '\">';\n",
       "    fig.close_ws(fig, msg);\n",
       "};\n",
       "\n",
       "mpl.figure.prototype.close_ws = function (fig, msg) {\n",
       "    fig.send_message('closing', msg);\n",
       "    // fig.ws.close()\n",
       "};\n",
       "\n",
       "mpl.figure.prototype.push_to_output = function (_remove_interactive) {\n",
       "    // Turn the data on the canvas into data in the output cell.\n",
       "    var width = this.canvas.width / mpl.ratio;\n",
       "    var dataURL = this.canvas.toDataURL();\n",
       "    this.cell_info[1]['text/html'] =\n",
       "        '<img src=\"' + dataURL + '\" width=\"' + width + '\">';\n",
       "};\n",
       "\n",
       "mpl.figure.prototype.updated_canvas_event = function () {\n",
       "    // Tell IPython that the notebook contents must change.\n",
       "    IPython.notebook.set_dirty(true);\n",
       "    this.send_message('ack', {});\n",
       "    var fig = this;\n",
       "    // Wait a second, then push the new image to the DOM so\n",
       "    // that it is saved nicely (might be nice to debounce this).\n",
       "    setTimeout(function () {\n",
       "        fig.push_to_output();\n",
       "    }, 1000);\n",
       "};\n",
       "\n",
       "mpl.figure.prototype._init_toolbar = function () {\n",
       "    var fig = this;\n",
       "\n",
       "    var toolbar = document.createElement('div');\n",
       "    toolbar.classList = 'btn-toolbar';\n",
       "    this.root.appendChild(toolbar);\n",
       "\n",
       "    function on_click_closure(name) {\n",
       "        return function (_event) {\n",
       "            return fig.toolbar_button_onclick(name);\n",
       "        };\n",
       "    }\n",
       "\n",
       "    function on_mouseover_closure(tooltip) {\n",
       "        return function (event) {\n",
       "            if (!event.currentTarget.disabled) {\n",
       "                return fig.toolbar_button_onmouseover(tooltip);\n",
       "            }\n",
       "        };\n",
       "    }\n",
       "\n",
       "    fig.buttons = {};\n",
       "    var buttonGroup = document.createElement('div');\n",
       "    buttonGroup.classList = 'btn-group';\n",
       "    var button;\n",
       "    for (var toolbar_ind in mpl.toolbar_items) {\n",
       "        var name = mpl.toolbar_items[toolbar_ind][0];\n",
       "        var tooltip = mpl.toolbar_items[toolbar_ind][1];\n",
       "        var image = mpl.toolbar_items[toolbar_ind][2];\n",
       "        var method_name = mpl.toolbar_items[toolbar_ind][3];\n",
       "\n",
       "        if (!name) {\n",
       "            /* Instead of a spacer, we start a new button group. */\n",
       "            if (buttonGroup.hasChildNodes()) {\n",
       "                toolbar.appendChild(buttonGroup);\n",
       "            }\n",
       "            buttonGroup = document.createElement('div');\n",
       "            buttonGroup.classList = 'btn-group';\n",
       "            continue;\n",
       "        }\n",
       "\n",
       "        button = fig.buttons[name] = document.createElement('button');\n",
       "        button.classList = 'btn btn-default';\n",
       "        button.href = '#';\n",
       "        button.title = name;\n",
       "        button.innerHTML = '<i class=\"fa ' + image + ' fa-lg\"></i>';\n",
       "        button.addEventListener('click', on_click_closure(method_name));\n",
       "        button.addEventListener('mouseover', on_mouseover_closure(tooltip));\n",
       "        buttonGroup.appendChild(button);\n",
       "    }\n",
       "\n",
       "    if (buttonGroup.hasChildNodes()) {\n",
       "        toolbar.appendChild(buttonGroup);\n",
       "    }\n",
       "\n",
       "    // Add the status bar.\n",
       "    var status_bar = document.createElement('span');\n",
       "    status_bar.classList = 'mpl-message pull-right';\n",
       "    toolbar.appendChild(status_bar);\n",
       "    this.message = status_bar;\n",
       "\n",
       "    // Add the close button to the window.\n",
       "    var buttongrp = document.createElement('div');\n",
       "    buttongrp.classList = 'btn-group inline pull-right';\n",
       "    button = document.createElement('button');\n",
       "    button.classList = 'btn btn-mini btn-primary';\n",
       "    button.href = '#';\n",
       "    button.title = 'Stop Interaction';\n",
       "    button.innerHTML = '<i class=\"fa fa-power-off icon-remove icon-large\"></i>';\n",
       "    button.addEventListener('click', function (_evt) {\n",
       "        fig.handle_close(fig, {});\n",
       "    });\n",
       "    button.addEventListener(\n",
       "        'mouseover',\n",
       "        on_mouseover_closure('Stop Interaction')\n",
       "    );\n",
       "    buttongrp.appendChild(button);\n",
       "    var titlebar = this.root.querySelector('.ui-dialog-titlebar');\n",
       "    titlebar.insertBefore(buttongrp, titlebar.firstChild);\n",
       "};\n",
       "\n",
       "mpl.figure.prototype._remove_fig_handler = function () {\n",
       "    this.close_ws(this, {});\n",
       "};\n",
       "\n",
       "mpl.figure.prototype._root_extra_style = function (el) {\n",
       "    el.style.boxSizing = 'content-box'; // override notebook setting of border-box.\n",
       "    el.addEventListener('remove', this._remove_fig_handler);\n",
       "};\n",
       "\n",
       "mpl.figure.prototype._canvas_extra_style = function (el) {\n",
       "    // this is important to make the div 'focusable\n",
       "    el.setAttribute('tabindex', 0);\n",
       "    // reach out to IPython and tell the keyboard manager to turn it's self\n",
       "    // off when our div gets focus\n",
       "\n",
       "    // location in version 3\n",
       "    if (IPython.notebook.keyboard_manager) {\n",
       "        IPython.notebook.keyboard_manager.register_events(el);\n",
       "    } else {\n",
       "        // location in version 2\n",
       "        IPython.keyboard_manager.register_events(el);\n",
       "    }\n",
       "};\n",
       "\n",
       "mpl.figure.prototype._key_event_extra = function (event, _name) {\n",
       "    var manager = IPython.notebook.keyboard_manager;\n",
       "    if (!manager) {\n",
       "        manager = IPython.keyboard_manager;\n",
       "    }\n",
       "\n",
       "    // Check for shift+enter\n",
       "    if (event.shiftKey && event.which === 13) {\n",
       "        this.canvas_div.blur();\n",
       "        // select the cell after this one\n",
       "        var index = IPython.notebook.find_cell_index(this.cell_info[0]);\n",
       "        IPython.notebook.select(index + 1);\n",
       "    }\n",
       "};\n",
       "\n",
       "mpl.figure.prototype.handle_save = function (fig, _msg) {\n",
       "    fig.ondownload(fig, null);\n",
       "};\n",
       "\n",
       "mpl.find_output_cell = function (html_output) {\n",
       "    // Return the cell and output element which can be found *uniquely* in the notebook.\n",
       "    // Note - this is a bit hacky, but it is done because the \"notebook_saving.Notebook\"\n",
       "    // IPython event is triggered only after the cells have been serialised, which for\n",
       "    // our purposes (turning an active figure into a static one), is too late.\n",
       "    var cells = IPython.notebook.get_cells();\n",
       "    var ncells = cells.length;\n",
       "    for (var i = 0; i < ncells; i++) {\n",
       "        var cell = cells[i];\n",
       "        if (cell.cell_type === 'code') {\n",
       "            for (var j = 0; j < cell.output_area.outputs.length; j++) {\n",
       "                var data = cell.output_area.outputs[j];\n",
       "                if (data.data) {\n",
       "                    // IPython >= 3 moved mimebundle to data attribute of output\n",
       "                    data = data.data;\n",
       "                }\n",
       "                if (data['text/html'] === html_output) {\n",
       "                    return [cell, data, j];\n",
       "                }\n",
       "            }\n",
       "        }\n",
       "    }\n",
       "};\n",
       "\n",
       "// Register the function which deals with the matplotlib target/channel.\n",
       "// The kernel may be null if the page has been refreshed.\n",
       "if (IPython.notebook.kernel !== null) {\n",
       "    IPython.notebook.kernel.comm_manager.register_target(\n",
       "        'matplotlib',\n",
       "        mpl.mpl_figure_comm\n",
       "    );\n",
       "}\n"
      ],
      "text/plain": [
       "<IPython.core.display.Javascript object>"
      ]
     },
     "metadata": {},
     "output_type": "display_data"
    },
    {
     "data": {
      "text/html": [
       "<img src=\"data:image/png;base64,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\" width=\"640\">"
      ],
      "text/plain": [
       "<IPython.core.display.HTML object>"
      ]
     },
     "metadata": {},
     "output_type": "display_data"
    }
   ],
   "source": [
    "def energy_expectation(x, y):\n",
    "  \"\"\" Returns meshgrid values for plotting \"\"\"\n",
    "  energy = np.zeros(x.shape)\n",
    "  for idx, thetas in enumerate(x):\n",
    "    for ind, theta1 in enumerate(thetas):\n",
    "      params = np.array([np.pi/2, np.pi, theta1, y[idx][ind]])\n",
    "      energy[idx][ind] = func(params)\n",
    "  return energy\n",
    "\n",
    "theta1 = np.linspace(0.0, 2*np.pi, 100)\n",
    "theta2 = np.linspace(0.0, 2*np.pi, 100)\n",
    "\n",
    "X, Y = np.meshgrid(theta1, theta2)\n",
    "Z = energy_expectation(X, Y)\n",
    "\n",
    "fig = plt.figure()\n",
    "ax = plt.axes(projection='3d')\n",
    "ax.contour3D(X, Y, Z, 50, cmap='summer')\n",
    "ax.set_xlabel('theta_1')\n",
    "ax.set_ylabel('theta_2')\n",
    "ax.set_zlabel('Expectation of H_1');\n",
    "plt.show()\n"
   ]
  },
  {
   "cell_type": "markdown",
   "metadata": {
    "colab_type": "text",
    "id": "cCFDNF4rXbwq"
   },
   "source": [
    "## Ansatz 2 (From Hint)"
   ]
  },
  {
   "cell_type": "code",
   "execution_count": 69,
   "metadata": {
    "colab": {},
    "colab_type": "code",
    "id": "_re13K71Xbwt"
   },
   "outputs": [],
   "source": [
    "a, b, c = decompose_ham_to_pauli(H1)\n",
    "params = np.random.uniform(-np.pi, np.pi, 1)\n",
    "func = ft.partial(vqe, meas_basis=a, coeffs=b, circuit=ansatz2, \n",
    "                  num_qubits=2, shots=2048)"
   ]
  },
  {
   "cell_type": "code",
   "execution_count": 70,
   "metadata": {
    "colab": {
     "base_uri": "https://localhost:8080/",
     "height": 153
    },
    "colab_type": "code",
    "id": "semL96RrFf15",
    "outputId": "7a5e09ee-baf1-45bf-eed2-8af3621ba501"
   },
   "outputs": [
    {
     "data": {
      "text/plain": [
       "   direc: array([[-7.27080612e-05]])\n",
       "     fun: array(-1.)\n",
       " message: 'Optimization terminated successfully.'\n",
       "    nfev: 52\n",
       "     nit: 2\n",
       "  status: 0\n",
       " success: True\n",
       "       x: array([-3.12289634])"
      ]
     },
     "execution_count": 70,
     "metadata": {},
     "output_type": "execute_result"
    }
   ],
   "source": [
    "res = sp.optimize.minimize(func, params, method='Powell')\n",
    "res"
   ]
  },
  {
   "cell_type": "code",
   "execution_count": 71,
   "metadata": {
    "colab": {},
    "colab_type": "code",
    "id": "JZKvKL09M_Hj"
   },
   "outputs": [],
   "source": [
    "assert(float(res.fun) == min(np.linalg.eig(H1)[0])) #Sanity Check"
   ]
  },
  {
   "cell_type": "markdown",
   "metadata": {
    "colab_type": "text",
    "id": "JjoIkrADHQry"
   },
   "source": [
    "### Visualizing the Result"
   ]
  },
  {
   "cell_type": "markdown",
   "metadata": {
    "colab_type": "text",
    "id": "QmNFY7HqfzHr"
   },
   "source": [
    "We scan over the paramter $\\theta \\in [0,2\\pi]$, to visualize the change in expectation value for the ansatz2, which is inspired from the hint given."
   ]
  },
  {
   "cell_type": "code",
   "execution_count": 73,
   "metadata": {
    "colab": {
     "base_uri": "https://localhost:8080/",
     "height": 295
    },
    "colab_type": "code",
    "id": "IFbyc9XVFhOv",
    "outputId": "e02729b3-deb9-4249-fa1e-fd4d6a451859"
   },
   "outputs": [
    {
     "data": {
      "application/javascript": [
       "/* Put everything inside the global mpl namespace */\n",
       "/* global mpl */\n",
       "window.mpl = {};\n",
       "\n",
       "mpl.get_websocket_type = function () {\n",
       "    if (typeof WebSocket !== 'undefined') {\n",
       "        return WebSocket;\n",
       "    } else if (typeof MozWebSocket !== 'undefined') {\n",
       "        return MozWebSocket;\n",
       "    } else {\n",
       "        alert(\n",
       "            'Your browser does not have WebSocket support. ' +\n",
       "                'Please try Chrome, Safari or Firefox ≥ 6. ' +\n",
       "                'Firefox 4 and 5 are also supported but you ' +\n",
       "                'have to enable WebSockets in about:config.'\n",
       "        );\n",
       "    }\n",
       "};\n",
       "\n",
       "mpl.figure = function (figure_id, websocket, ondownload, parent_element) {\n",
       "    this.id = figure_id;\n",
       "\n",
       "    this.ws = websocket;\n",
       "\n",
       "    this.supports_binary = this.ws.binaryType !== undefined;\n",
       "\n",
       "    if (!this.supports_binary) {\n",
       "        var warnings = document.getElementById('mpl-warnings');\n",
       "        if (warnings) {\n",
       "            warnings.style.display = 'block';\n",
       "            warnings.textContent =\n",
       "                'This browser does not support binary websocket messages. ' +\n",
       "                'Performance may be slow.';\n",
       "        }\n",
       "    }\n",
       "\n",
       "    this.imageObj = new Image();\n",
       "\n",
       "    this.context = undefined;\n",
       "    this.message = undefined;\n",
       "    this.canvas = undefined;\n",
       "    this.rubberband_canvas = undefined;\n",
       "    this.rubberband_context = undefined;\n",
       "    this.format_dropdown = undefined;\n",
       "\n",
       "    this.image_mode = 'full';\n",
       "\n",
       "    this.root = document.createElement('div');\n",
       "    this.root.setAttribute('style', 'display: inline-block');\n",
       "    this._root_extra_style(this.root);\n",
       "\n",
       "    parent_element.appendChild(this.root);\n",
       "\n",
       "    this._init_header(this);\n",
       "    this._init_canvas(this);\n",
       "    this._init_toolbar(this);\n",
       "\n",
       "    var fig = this;\n",
       "\n",
       "    this.waiting = false;\n",
       "\n",
       "    this.ws.onopen = function () {\n",
       "        fig.send_message('supports_binary', { value: fig.supports_binary });\n",
       "        fig.send_message('send_image_mode', {});\n",
       "        if (mpl.ratio !== 1) {\n",
       "            fig.send_message('set_dpi_ratio', { dpi_ratio: mpl.ratio });\n",
       "        }\n",
       "        fig.send_message('refresh', {});\n",
       "    };\n",
       "\n",
       "    this.imageObj.onload = function () {\n",
       "        if (fig.image_mode === 'full') {\n",
       "            // Full images could contain transparency (where diff images\n",
       "            // almost always do), so we need to clear the canvas so that\n",
       "            // there is no ghosting.\n",
       "            fig.context.clearRect(0, 0, fig.canvas.width, fig.canvas.height);\n",
       "        }\n",
       "        fig.context.drawImage(fig.imageObj, 0, 0);\n",
       "    };\n",
       "\n",
       "    this.imageObj.onunload = function () {\n",
       "        fig.ws.close();\n",
       "    };\n",
       "\n",
       "    this.ws.onmessage = this._make_on_message_function(this);\n",
       "\n",
       "    this.ondownload = ondownload;\n",
       "};\n",
       "\n",
       "mpl.figure.prototype._init_header = function () {\n",
       "    var titlebar = document.createElement('div');\n",
       "    titlebar.classList =\n",
       "        'ui-dialog-titlebar ui-widget-header ui-corner-all ui-helper-clearfix';\n",
       "    var titletext = document.createElement('div');\n",
       "    titletext.classList = 'ui-dialog-title';\n",
       "    titletext.setAttribute(\n",
       "        'style',\n",
       "        'width: 100%; text-align: center; padding: 3px;'\n",
       "    );\n",
       "    titlebar.appendChild(titletext);\n",
       "    this.root.appendChild(titlebar);\n",
       "    this.header = titletext;\n",
       "};\n",
       "\n",
       "mpl.figure.prototype._canvas_extra_style = function (_canvas_div) {};\n",
       "\n",
       "mpl.figure.prototype._root_extra_style = function (_canvas_div) {};\n",
       "\n",
       "mpl.figure.prototype._init_canvas = function () {\n",
       "    var fig = this;\n",
       "\n",
       "    var canvas_div = (this.canvas_div = document.createElement('div'));\n",
       "    canvas_div.setAttribute(\n",
       "        'style',\n",
       "        'border: 1px solid #ddd;' +\n",
       "            'box-sizing: content-box;' +\n",
       "            'clear: both;' +\n",
       "            'min-height: 1px;' +\n",
       "            'min-width: 1px;' +\n",
       "            'outline: 0;' +\n",
       "            'overflow: hidden;' +\n",
       "            'position: relative;' +\n",
       "            'resize: both;'\n",
       "    );\n",
       "\n",
       "    function on_keyboard_event_closure(name) {\n",
       "        return function (event) {\n",
       "            return fig.key_event(event, name);\n",
       "        };\n",
       "    }\n",
       "\n",
       "    canvas_div.addEventListener(\n",
       "        'keydown',\n",
       "        on_keyboard_event_closure('key_press')\n",
       "    );\n",
       "    canvas_div.addEventListener(\n",
       "        'keyup',\n",
       "        on_keyboard_event_closure('key_release')\n",
       "    );\n",
       "\n",
       "    this._canvas_extra_style(canvas_div);\n",
       "    this.root.appendChild(canvas_div);\n",
       "\n",
       "    var canvas = (this.canvas = document.createElement('canvas'));\n",
       "    canvas.classList.add('mpl-canvas');\n",
       "    canvas.setAttribute('style', 'box-sizing: content-box;');\n",
       "\n",
       "    this.context = canvas.getContext('2d');\n",
       "\n",
       "    var backingStore =\n",
       "        this.context.backingStorePixelRatio ||\n",
       "        this.context.webkitBackingStorePixelRatio ||\n",
       "        this.context.mozBackingStorePixelRatio ||\n",
       "        this.context.msBackingStorePixelRatio ||\n",
       "        this.context.oBackingStorePixelRatio ||\n",
       "        this.context.backingStorePixelRatio ||\n",
       "        1;\n",
       "\n",
       "    mpl.ratio = (window.devicePixelRatio || 1) / backingStore;\n",
       "\n",
       "    var rubberband_canvas = (this.rubberband_canvas = document.createElement(\n",
       "        'canvas'\n",
       "    ));\n",
       "    rubberband_canvas.setAttribute(\n",
       "        'style',\n",
       "        'box-sizing: content-box; position: absolute; left: 0; top: 0; z-index: 1;'\n",
       "    );\n",
       "\n",
       "    var resizeObserver = new ResizeObserver(function (entries) {\n",
       "        var nentries = entries.length;\n",
       "        for (var i = 0; i < nentries; i++) {\n",
       "            var entry = entries[i];\n",
       "            var width, height;\n",
       "            if (entry.contentBoxSize) {\n",
       "                if (entry.contentBoxSize instanceof Array) {\n",
       "                    // Chrome 84 implements new version of spec.\n",
       "                    width = entry.contentBoxSize[0].inlineSize;\n",
       "                    height = entry.contentBoxSize[0].blockSize;\n",
       "                } else {\n",
       "                    // Firefox implements old version of spec.\n",
       "                    width = entry.contentBoxSize.inlineSize;\n",
       "                    height = entry.contentBoxSize.blockSize;\n",
       "                }\n",
       "            } else {\n",
       "                // Chrome <84 implements even older version of spec.\n",
       "                width = entry.contentRect.width;\n",
       "                height = entry.contentRect.height;\n",
       "            }\n",
       "\n",
       "            // Keep the size of the canvas and rubber band canvas in sync with\n",
       "            // the canvas container.\n",
       "            if (entry.devicePixelContentBoxSize) {\n",
       "                // Chrome 84 implements new version of spec.\n",
       "                canvas.setAttribute(\n",
       "                    'width',\n",
       "                    entry.devicePixelContentBoxSize[0].inlineSize\n",
       "                );\n",
       "                canvas.setAttribute(\n",
       "                    'height',\n",
       "                    entry.devicePixelContentBoxSize[0].blockSize\n",
       "                );\n",
       "            } else {\n",
       "                canvas.setAttribute('width', width * mpl.ratio);\n",
       "                canvas.setAttribute('height', height * mpl.ratio);\n",
       "            }\n",
       "            canvas.setAttribute(\n",
       "                'style',\n",
       "                'width: ' + width + 'px; height: ' + height + 'px;'\n",
       "            );\n",
       "\n",
       "            rubberband_canvas.setAttribute('width', width);\n",
       "            rubberband_canvas.setAttribute('height', height);\n",
       "\n",
       "            // And update the size in Python. We ignore the initial 0/0 size\n",
       "            // that occurs as the element is placed into the DOM, which should\n",
       "            // otherwise not happen due to the minimum size styling.\n",
       "            if (width != 0 && height != 0) {\n",
       "                fig.request_resize(width, height);\n",
       "            }\n",
       "        }\n",
       "    });\n",
       "    resizeObserver.observe(canvas_div);\n",
       "\n",
       "    function on_mouse_event_closure(name) {\n",
       "        return function (event) {\n",
       "            return fig.mouse_event(event, name);\n",
       "        };\n",
       "    }\n",
       "\n",
       "    rubberband_canvas.addEventListener(\n",
       "        'mousedown',\n",
       "        on_mouse_event_closure('button_press')\n",
       "    );\n",
       "    rubberband_canvas.addEventListener(\n",
       "        'mouseup',\n",
       "        on_mouse_event_closure('button_release')\n",
       "    );\n",
       "    // Throttle sequential mouse events to 1 every 20ms.\n",
       "    rubberband_canvas.addEventListener(\n",
       "        'mousemove',\n",
       "        on_mouse_event_closure('motion_notify')\n",
       "    );\n",
       "\n",
       "    rubberband_canvas.addEventListener(\n",
       "        'mouseenter',\n",
       "        on_mouse_event_closure('figure_enter')\n",
       "    );\n",
       "    rubberband_canvas.addEventListener(\n",
       "        'mouseleave',\n",
       "        on_mouse_event_closure('figure_leave')\n",
       "    );\n",
       "\n",
       "    canvas_div.addEventListener('wheel', function (event) {\n",
       "        if (event.deltaY < 0) {\n",
       "            event.step = 1;\n",
       "        } else {\n",
       "            event.step = -1;\n",
       "        }\n",
       "        on_mouse_event_closure('scroll')(event);\n",
       "    });\n",
       "\n",
       "    canvas_div.appendChild(canvas);\n",
       "    canvas_div.appendChild(rubberband_canvas);\n",
       "\n",
       "    this.rubberband_context = rubberband_canvas.getContext('2d');\n",
       "    this.rubberband_context.strokeStyle = '#000000';\n",
       "\n",
       "    this._resize_canvas = function (width, height, forward) {\n",
       "        if (forward) {\n",
       "            canvas_div.style.width = width + 'px';\n",
       "            canvas_div.style.height = height + 'px';\n",
       "        }\n",
       "    };\n",
       "\n",
       "    // Disable right mouse context menu.\n",
       "    this.rubberband_canvas.addEventListener('contextmenu', function (_e) {\n",
       "        event.preventDefault();\n",
       "        return false;\n",
       "    });\n",
       "\n",
       "    function set_focus() {\n",
       "        canvas.focus();\n",
       "        canvas_div.focus();\n",
       "    }\n",
       "\n",
       "    window.setTimeout(set_focus, 100);\n",
       "};\n",
       "\n",
       "mpl.figure.prototype._init_toolbar = function () {\n",
       "    var fig = this;\n",
       "\n",
       "    var toolbar = document.createElement('div');\n",
       "    toolbar.classList = 'mpl-toolbar';\n",
       "    this.root.appendChild(toolbar);\n",
       "\n",
       "    function on_click_closure(name) {\n",
       "        return function (_event) {\n",
       "            return fig.toolbar_button_onclick(name);\n",
       "        };\n",
       "    }\n",
       "\n",
       "    function on_mouseover_closure(tooltip) {\n",
       "        return function (event) {\n",
       "            if (!event.currentTarget.disabled) {\n",
       "                return fig.toolbar_button_onmouseover(tooltip);\n",
       "            }\n",
       "        };\n",
       "    }\n",
       "\n",
       "    fig.buttons = {};\n",
       "    var buttonGroup = document.createElement('div');\n",
       "    buttonGroup.classList = 'mpl-button-group';\n",
       "    for (var toolbar_ind in mpl.toolbar_items) {\n",
       "        var name = mpl.toolbar_items[toolbar_ind][0];\n",
       "        var tooltip = mpl.toolbar_items[toolbar_ind][1];\n",
       "        var image = mpl.toolbar_items[toolbar_ind][2];\n",
       "        var method_name = mpl.toolbar_items[toolbar_ind][3];\n",
       "\n",
       "        if (!name) {\n",
       "            /* Instead of a spacer, we start a new button group. */\n",
       "            if (buttonGroup.hasChildNodes()) {\n",
       "                toolbar.appendChild(buttonGroup);\n",
       "            }\n",
       "            buttonGroup = document.createElement('div');\n",
       "            buttonGroup.classList = 'mpl-button-group';\n",
       "            continue;\n",
       "        }\n",
       "\n",
       "        var button = (fig.buttons[name] = document.createElement('button'));\n",
       "        button.classList = 'mpl-widget';\n",
       "        button.setAttribute('role', 'button');\n",
       "        button.setAttribute('aria-disabled', 'false');\n",
       "        button.addEventListener('click', on_click_closure(method_name));\n",
       "        button.addEventListener('mouseover', on_mouseover_closure(tooltip));\n",
       "\n",
       "        var icon_img = document.createElement('img');\n",
       "        icon_img.src = '_images/' + image + '.png';\n",
       "        icon_img.srcset = '_images/' + image + '_large.png 2x';\n",
       "        icon_img.alt = tooltip;\n",
       "        button.appendChild(icon_img);\n",
       "\n",
       "        buttonGroup.appendChild(button);\n",
       "    }\n",
       "\n",
       "    if (buttonGroup.hasChildNodes()) {\n",
       "        toolbar.appendChild(buttonGroup);\n",
       "    }\n",
       "\n",
       "    var fmt_picker = document.createElement('select');\n",
       "    fmt_picker.classList = 'mpl-widget';\n",
       "    toolbar.appendChild(fmt_picker);\n",
       "    this.format_dropdown = fmt_picker;\n",
       "\n",
       "    for (var ind in mpl.extensions) {\n",
       "        var fmt = mpl.extensions[ind];\n",
       "        var option = document.createElement('option');\n",
       "        option.selected = fmt === mpl.default_extension;\n",
       "        option.innerHTML = fmt;\n",
       "        fmt_picker.appendChild(option);\n",
       "    }\n",
       "\n",
       "    var status_bar = document.createElement('span');\n",
       "    status_bar.classList = 'mpl-message';\n",
       "    toolbar.appendChild(status_bar);\n",
       "    this.message = status_bar;\n",
       "};\n",
       "\n",
       "mpl.figure.prototype.request_resize = function (x_pixels, y_pixels) {\n",
       "    // Request matplotlib to resize the figure. Matplotlib will then trigger a resize in the client,\n",
       "    // which will in turn request a refresh of the image.\n",
       "    this.send_message('resize', { width: x_pixels, height: y_pixels });\n",
       "};\n",
       "\n",
       "mpl.figure.prototype.send_message = function (type, properties) {\n",
       "    properties['type'] = type;\n",
       "    properties['figure_id'] = this.id;\n",
       "    this.ws.send(JSON.stringify(properties));\n",
       "};\n",
       "\n",
       "mpl.figure.prototype.send_draw_message = function () {\n",
       "    if (!this.waiting) {\n",
       "        this.waiting = true;\n",
       "        this.ws.send(JSON.stringify({ type: 'draw', figure_id: this.id }));\n",
       "    }\n",
       "};\n",
       "\n",
       "mpl.figure.prototype.handle_save = function (fig, _msg) {\n",
       "    var format_dropdown = fig.format_dropdown;\n",
       "    var format = format_dropdown.options[format_dropdown.selectedIndex].value;\n",
       "    fig.ondownload(fig, format);\n",
       "};\n",
       "\n",
       "mpl.figure.prototype.handle_resize = function (fig, msg) {\n",
       "    var size = msg['size'];\n",
       "    if (size[0] !== fig.canvas.width || size[1] !== fig.canvas.height) {\n",
       "        fig._resize_canvas(size[0], size[1], msg['forward']);\n",
       "        fig.send_message('refresh', {});\n",
       "    }\n",
       "};\n",
       "\n",
       "mpl.figure.prototype.handle_rubberband = function (fig, msg) {\n",
       "    var x0 = msg['x0'] / mpl.ratio;\n",
       "    var y0 = (fig.canvas.height - msg['y0']) / mpl.ratio;\n",
       "    var x1 = msg['x1'] / mpl.ratio;\n",
       "    var y1 = (fig.canvas.height - msg['y1']) / mpl.ratio;\n",
       "    x0 = Math.floor(x0) + 0.5;\n",
       "    y0 = Math.floor(y0) + 0.5;\n",
       "    x1 = Math.floor(x1) + 0.5;\n",
       "    y1 = Math.floor(y1) + 0.5;\n",
       "    var min_x = Math.min(x0, x1);\n",
       "    var min_y = Math.min(y0, y1);\n",
       "    var width = Math.abs(x1 - x0);\n",
       "    var height = Math.abs(y1 - y0);\n",
       "\n",
       "    fig.rubberband_context.clearRect(\n",
       "        0,\n",
       "        0,\n",
       "        fig.canvas.width / mpl.ratio,\n",
       "        fig.canvas.height / mpl.ratio\n",
       "    );\n",
       "\n",
       "    fig.rubberband_context.strokeRect(min_x, min_y, width, height);\n",
       "};\n",
       "\n",
       "mpl.figure.prototype.handle_figure_label = function (fig, msg) {\n",
       "    // Updates the figure title.\n",
       "    fig.header.textContent = msg['label'];\n",
       "};\n",
       "\n",
       "mpl.figure.prototype.handle_cursor = function (fig, msg) {\n",
       "    var cursor = msg['cursor'];\n",
       "    switch (cursor) {\n",
       "        case 0:\n",
       "            cursor = 'pointer';\n",
       "            break;\n",
       "        case 1:\n",
       "            cursor = 'default';\n",
       "            break;\n",
       "        case 2:\n",
       "            cursor = 'crosshair';\n",
       "            break;\n",
       "        case 3:\n",
       "            cursor = 'move';\n",
       "            break;\n",
       "    }\n",
       "    fig.rubberband_canvas.style.cursor = cursor;\n",
       "};\n",
       "\n",
       "mpl.figure.prototype.handle_message = function (fig, msg) {\n",
       "    fig.message.textContent = msg['message'];\n",
       "};\n",
       "\n",
       "mpl.figure.prototype.handle_draw = function (fig, _msg) {\n",
       "    // Request the server to send over a new figure.\n",
       "    fig.send_draw_message();\n",
       "};\n",
       "\n",
       "mpl.figure.prototype.handle_image_mode = function (fig, msg) {\n",
       "    fig.image_mode = msg['mode'];\n",
       "};\n",
       "\n",
       "mpl.figure.prototype.handle_history_buttons = function (fig, msg) {\n",
       "    for (var key in msg) {\n",
       "        if (!(key in fig.buttons)) {\n",
       "            continue;\n",
       "        }\n",
       "        fig.buttons[key].disabled = !msg[key];\n",
       "        fig.buttons[key].setAttribute('aria-disabled', !msg[key]);\n",
       "    }\n",
       "};\n",
       "\n",
       "mpl.figure.prototype.handle_navigate_mode = function (fig, msg) {\n",
       "    if (msg['mode'] === 'PAN') {\n",
       "        fig.buttons['Pan'].classList.add('active');\n",
       "        fig.buttons['Zoom'].classList.remove('active');\n",
       "    } else if (msg['mode'] === 'ZOOM') {\n",
       "        fig.buttons['Pan'].classList.remove('active');\n",
       "        fig.buttons['Zoom'].classList.add('active');\n",
       "    } else {\n",
       "        fig.buttons['Pan'].classList.remove('active');\n",
       "        fig.buttons['Zoom'].classList.remove('active');\n",
       "    }\n",
       "};\n",
       "\n",
       "mpl.figure.prototype.updated_canvas_event = function () {\n",
       "    // Called whenever the canvas gets updated.\n",
       "    this.send_message('ack', {});\n",
       "};\n",
       "\n",
       "// A function to construct a web socket function for onmessage handling.\n",
       "// Called in the figure constructor.\n",
       "mpl.figure.prototype._make_on_message_function = function (fig) {\n",
       "    return function socket_on_message(evt) {\n",
       "        if (evt.data instanceof Blob) {\n",
       "            /* FIXME: We get \"Resource interpreted as Image but\n",
       "             * transferred with MIME type text/plain:\" errors on\n",
       "             * Chrome.  But how to set the MIME type?  It doesn't seem\n",
       "             * to be part of the websocket stream */\n",
       "            evt.data.type = 'image/png';\n",
       "\n",
       "            /* Free the memory for the previous frames */\n",
       "            if (fig.imageObj.src) {\n",
       "                (window.URL || window.webkitURL).revokeObjectURL(\n",
       "                    fig.imageObj.src\n",
       "                );\n",
       "            }\n",
       "\n",
       "            fig.imageObj.src = (window.URL || window.webkitURL).createObjectURL(\n",
       "                evt.data\n",
       "            );\n",
       "            fig.updated_canvas_event();\n",
       "            fig.waiting = false;\n",
       "            return;\n",
       "        } else if (\n",
       "            typeof evt.data === 'string' &&\n",
       "            evt.data.slice(0, 21) === 'data:image/png;base64'\n",
       "        ) {\n",
       "            fig.imageObj.src = evt.data;\n",
       "            fig.updated_canvas_event();\n",
       "            fig.waiting = false;\n",
       "            return;\n",
       "        }\n",
       "\n",
       "        var msg = JSON.parse(evt.data);\n",
       "        var msg_type = msg['type'];\n",
       "\n",
       "        // Call the  \"handle_{type}\" callback, which takes\n",
       "        // the figure and JSON message as its only arguments.\n",
       "        try {\n",
       "            var callback = fig['handle_' + msg_type];\n",
       "        } catch (e) {\n",
       "            console.log(\n",
       "                \"No handler for the '\" + msg_type + \"' message type: \",\n",
       "                msg\n",
       "            );\n",
       "            return;\n",
       "        }\n",
       "\n",
       "        if (callback) {\n",
       "            try {\n",
       "                // console.log(\"Handling '\" + msg_type + \"' message: \", msg);\n",
       "                callback(fig, msg);\n",
       "            } catch (e) {\n",
       "                console.log(\n",
       "                    \"Exception inside the 'handler_\" + msg_type + \"' callback:\",\n",
       "                    e,\n",
       "                    e.stack,\n",
       "                    msg\n",
       "                );\n",
       "            }\n",
       "        }\n",
       "    };\n",
       "};\n",
       "\n",
       "// from http://stackoverflow.com/questions/1114465/getting-mouse-location-in-canvas\n",
       "mpl.findpos = function (e) {\n",
       "    //this section is from http://www.quirksmode.org/js/events_properties.html\n",
       "    var targ;\n",
       "    if (!e) {\n",
       "        e = window.event;\n",
       "    }\n",
       "    if (e.target) {\n",
       "        targ = e.target;\n",
       "    } else if (e.srcElement) {\n",
       "        targ = e.srcElement;\n",
       "    }\n",
       "    if (targ.nodeType === 3) {\n",
       "        // defeat Safari bug\n",
       "        targ = targ.parentNode;\n",
       "    }\n",
       "\n",
       "    // pageX,Y are the mouse positions relative to the document\n",
       "    var boundingRect = targ.getBoundingClientRect();\n",
       "    var x = e.pageX - (boundingRect.left + document.body.scrollLeft);\n",
       "    var y = e.pageY - (boundingRect.top + document.body.scrollTop);\n",
       "\n",
       "    return { x: x, y: y };\n",
       "};\n",
       "\n",
       "/*\n",
       " * return a copy of an object with only non-object keys\n",
       " * we need this to avoid circular references\n",
       " * http://stackoverflow.com/a/24161582/3208463\n",
       " */\n",
       "function simpleKeys(original) {\n",
       "    return Object.keys(original).reduce(function (obj, key) {\n",
       "        if (typeof original[key] !== 'object') {\n",
       "            obj[key] = original[key];\n",
       "        }\n",
       "        return obj;\n",
       "    }, {});\n",
       "}\n",
       "\n",
       "mpl.figure.prototype.mouse_event = function (event, name) {\n",
       "    var canvas_pos = mpl.findpos(event);\n",
       "\n",
       "    if (name === 'button_press') {\n",
       "        this.canvas.focus();\n",
       "        this.canvas_div.focus();\n",
       "    }\n",
       "\n",
       "    var x = canvas_pos.x * mpl.ratio;\n",
       "    var y = canvas_pos.y * mpl.ratio;\n",
       "\n",
       "    this.send_message(name, {\n",
       "        x: x,\n",
       "        y: y,\n",
       "        button: event.button,\n",
       "        step: event.step,\n",
       "        guiEvent: simpleKeys(event),\n",
       "    });\n",
       "\n",
       "    /* This prevents the web browser from automatically changing to\n",
       "     * the text insertion cursor when the button is pressed.  We want\n",
       "     * to control all of the cursor setting manually through the\n",
       "     * 'cursor' event from matplotlib */\n",
       "    event.preventDefault();\n",
       "    return false;\n",
       "};\n",
       "\n",
       "mpl.figure.prototype._key_event_extra = function (_event, _name) {\n",
       "    // Handle any extra behaviour associated with a key event\n",
       "};\n",
       "\n",
       "mpl.figure.prototype.key_event = function (event, name) {\n",
       "    // Prevent repeat events\n",
       "    if (name === 'key_press') {\n",
       "        if (event.which === this._key) {\n",
       "            return;\n",
       "        } else {\n",
       "            this._key = event.which;\n",
       "        }\n",
       "    }\n",
       "    if (name === 'key_release') {\n",
       "        this._key = null;\n",
       "    }\n",
       "\n",
       "    var value = '';\n",
       "    if (event.ctrlKey && event.which !== 17) {\n",
       "        value += 'ctrl+';\n",
       "    }\n",
       "    if (event.altKey && event.which !== 18) {\n",
       "        value += 'alt+';\n",
       "    }\n",
       "    if (event.shiftKey && event.which !== 16) {\n",
       "        value += 'shift+';\n",
       "    }\n",
       "\n",
       "    value += 'k';\n",
       "    value += event.which.toString();\n",
       "\n",
       "    this._key_event_extra(event, name);\n",
       "\n",
       "    this.send_message(name, { key: value, guiEvent: simpleKeys(event) });\n",
       "    return false;\n",
       "};\n",
       "\n",
       "mpl.figure.prototype.toolbar_button_onclick = function (name) {\n",
       "    if (name === 'download') {\n",
       "        this.handle_save(this, null);\n",
       "    } else {\n",
       "        this.send_message('toolbar_button', { name: name });\n",
       "    }\n",
       "};\n",
       "\n",
       "mpl.figure.prototype.toolbar_button_onmouseover = function (tooltip) {\n",
       "    this.message.textContent = tooltip;\n",
       "};\n",
       "mpl.toolbar_items = [[\"Home\", \"Reset original view\", \"fa fa-home icon-home\", \"home\"], [\"Back\", \"Back to previous view\", \"fa fa-arrow-left icon-arrow-left\", \"back\"], [\"Forward\", \"Forward to next view\", \"fa fa-arrow-right icon-arrow-right\", \"forward\"], [\"\", \"\", \"\", \"\"], [\"Pan\", \"Left button pans, Right button zooms\\nx/y fixes axis, CTRL fixes aspect\", \"fa fa-arrows icon-move\", \"pan\"], [\"Zoom\", \"Zoom to rectangle\\nx/y fixes axis, CTRL fixes aspect\", \"fa fa-square-o icon-check-empty\", \"zoom\"], [\"\", \"\", \"\", \"\"], [\"Download\", \"Download plot\", \"fa fa-floppy-o icon-save\", \"download\"]];\n",
       "\n",
       "mpl.extensions = [\"eps\", \"jpeg\", \"pdf\", \"png\", \"ps\", \"raw\", \"svg\", \"tif\"];\n",
       "\n",
       "mpl.default_extension = \"png\";/* global mpl */\n",
       "\n",
       "var comm_websocket_adapter = function (comm) {\n",
       "    // Create a \"websocket\"-like object which calls the given IPython comm\n",
       "    // object with the appropriate methods. Currently this is a non binary\n",
       "    // socket, so there is still some room for performance tuning.\n",
       "    var ws = {};\n",
       "\n",
       "    ws.close = function () {\n",
       "        comm.close();\n",
       "    };\n",
       "    ws.send = function (m) {\n",
       "        //console.log('sending', m);\n",
       "        comm.send(m);\n",
       "    };\n",
       "    // Register the callback with on_msg.\n",
       "    comm.on_msg(function (msg) {\n",
       "        //console.log('receiving', msg['content']['data'], msg);\n",
       "        // Pass the mpl event to the overridden (by mpl) onmessage function.\n",
       "        ws.onmessage(msg['content']['data']);\n",
       "    });\n",
       "    return ws;\n",
       "};\n",
       "\n",
       "mpl.mpl_figure_comm = function (comm, msg) {\n",
       "    // This is the function which gets called when the mpl process\n",
       "    // starts-up an IPython Comm through the \"matplotlib\" channel.\n",
       "\n",
       "    var id = msg.content.data.id;\n",
       "    // Get hold of the div created by the display call when the Comm\n",
       "    // socket was opened in Python.\n",
       "    var element = document.getElementById(id);\n",
       "    var ws_proxy = comm_websocket_adapter(comm);\n",
       "\n",
       "    function ondownload(figure, _format) {\n",
       "        window.open(figure.canvas.toDataURL());\n",
       "    }\n",
       "\n",
       "    var fig = new mpl.figure(id, ws_proxy, ondownload, element);\n",
       "\n",
       "    // Call onopen now - mpl needs it, as it is assuming we've passed it a real\n",
       "    // web socket which is closed, not our websocket->open comm proxy.\n",
       "    ws_proxy.onopen();\n",
       "\n",
       "    fig.parent_element = element;\n",
       "    fig.cell_info = mpl.find_output_cell(\"<div id='\" + id + \"'></div>\");\n",
       "    if (!fig.cell_info) {\n",
       "        console.error('Failed to find cell for figure', id, fig);\n",
       "        return;\n",
       "    }\n",
       "};\n",
       "\n",
       "mpl.figure.prototype.handle_close = function (fig, msg) {\n",
       "    var width = fig.canvas.width / mpl.ratio;\n",
       "    fig.root.removeEventListener('remove', this._remove_fig_handler);\n",
       "\n",
       "    // Update the output cell to use the data from the current canvas.\n",
       "    fig.push_to_output();\n",
       "    var dataURL = fig.canvas.toDataURL();\n",
       "    // Re-enable the keyboard manager in IPython - without this line, in FF,\n",
       "    // the notebook keyboard shortcuts fail.\n",
       "    IPython.keyboard_manager.enable();\n",
       "    fig.parent_element.innerHTML =\n",
       "        '<img src=\"' + dataURL + '\" width=\"' + width + '\">';\n",
       "    fig.close_ws(fig, msg);\n",
       "};\n",
       "\n",
       "mpl.figure.prototype.close_ws = function (fig, msg) {\n",
       "    fig.send_message('closing', msg);\n",
       "    // fig.ws.close()\n",
       "};\n",
       "\n",
       "mpl.figure.prototype.push_to_output = function (_remove_interactive) {\n",
       "    // Turn the data on the canvas into data in the output cell.\n",
       "    var width = this.canvas.width / mpl.ratio;\n",
       "    var dataURL = this.canvas.toDataURL();\n",
       "    this.cell_info[1]['text/html'] =\n",
       "        '<img src=\"' + dataURL + '\" width=\"' + width + '\">';\n",
       "};\n",
       "\n",
       "mpl.figure.prototype.updated_canvas_event = function () {\n",
       "    // Tell IPython that the notebook contents must change.\n",
       "    IPython.notebook.set_dirty(true);\n",
       "    this.send_message('ack', {});\n",
       "    var fig = this;\n",
       "    // Wait a second, then push the new image to the DOM so\n",
       "    // that it is saved nicely (might be nice to debounce this).\n",
       "    setTimeout(function () {\n",
       "        fig.push_to_output();\n",
       "    }, 1000);\n",
       "};\n",
       "\n",
       "mpl.figure.prototype._init_toolbar = function () {\n",
       "    var fig = this;\n",
       "\n",
       "    var toolbar = document.createElement('div');\n",
       "    toolbar.classList = 'btn-toolbar';\n",
       "    this.root.appendChild(toolbar);\n",
       "\n",
       "    function on_click_closure(name) {\n",
       "        return function (_event) {\n",
       "            return fig.toolbar_button_onclick(name);\n",
       "        };\n",
       "    }\n",
       "\n",
       "    function on_mouseover_closure(tooltip) {\n",
       "        return function (event) {\n",
       "            if (!event.currentTarget.disabled) {\n",
       "                return fig.toolbar_button_onmouseover(tooltip);\n",
       "            }\n",
       "        };\n",
       "    }\n",
       "\n",
       "    fig.buttons = {};\n",
       "    var buttonGroup = document.createElement('div');\n",
       "    buttonGroup.classList = 'btn-group';\n",
       "    var button;\n",
       "    for (var toolbar_ind in mpl.toolbar_items) {\n",
       "        var name = mpl.toolbar_items[toolbar_ind][0];\n",
       "        var tooltip = mpl.toolbar_items[toolbar_ind][1];\n",
       "        var image = mpl.toolbar_items[toolbar_ind][2];\n",
       "        var method_name = mpl.toolbar_items[toolbar_ind][3];\n",
       "\n",
       "        if (!name) {\n",
       "            /* Instead of a spacer, we start a new button group. */\n",
       "            if (buttonGroup.hasChildNodes()) {\n",
       "                toolbar.appendChild(buttonGroup);\n",
       "            }\n",
       "            buttonGroup = document.createElement('div');\n",
       "            buttonGroup.classList = 'btn-group';\n",
       "            continue;\n",
       "        }\n",
       "\n",
       "        button = fig.buttons[name] = document.createElement('button');\n",
       "        button.classList = 'btn btn-default';\n",
       "        button.href = '#';\n",
       "        button.title = name;\n",
       "        button.innerHTML = '<i class=\"fa ' + image + ' fa-lg\"></i>';\n",
       "        button.addEventListener('click', on_click_closure(method_name));\n",
       "        button.addEventListener('mouseover', on_mouseover_closure(tooltip));\n",
       "        buttonGroup.appendChild(button);\n",
       "    }\n",
       "\n",
       "    if (buttonGroup.hasChildNodes()) {\n",
       "        toolbar.appendChild(buttonGroup);\n",
       "    }\n",
       "\n",
       "    // Add the status bar.\n",
       "    var status_bar = document.createElement('span');\n",
       "    status_bar.classList = 'mpl-message pull-right';\n",
       "    toolbar.appendChild(status_bar);\n",
       "    this.message = status_bar;\n",
       "\n",
       "    // Add the close button to the window.\n",
       "    var buttongrp = document.createElement('div');\n",
       "    buttongrp.classList = 'btn-group inline pull-right';\n",
       "    button = document.createElement('button');\n",
       "    button.classList = 'btn btn-mini btn-primary';\n",
       "    button.href = '#';\n",
       "    button.title = 'Stop Interaction';\n",
       "    button.innerHTML = '<i class=\"fa fa-power-off icon-remove icon-large\"></i>';\n",
       "    button.addEventListener('click', function (_evt) {\n",
       "        fig.handle_close(fig, {});\n",
       "    });\n",
       "    button.addEventListener(\n",
       "        'mouseover',\n",
       "        on_mouseover_closure('Stop Interaction')\n",
       "    );\n",
       "    buttongrp.appendChild(button);\n",
       "    var titlebar = this.root.querySelector('.ui-dialog-titlebar');\n",
       "    titlebar.insertBefore(buttongrp, titlebar.firstChild);\n",
       "};\n",
       "\n",
       "mpl.figure.prototype._remove_fig_handler = function () {\n",
       "    this.close_ws(this, {});\n",
       "};\n",
       "\n",
       "mpl.figure.prototype._root_extra_style = function (el) {\n",
       "    el.style.boxSizing = 'content-box'; // override notebook setting of border-box.\n",
       "    el.addEventListener('remove', this._remove_fig_handler);\n",
       "};\n",
       "\n",
       "mpl.figure.prototype._canvas_extra_style = function (el) {\n",
       "    // this is important to make the div 'focusable\n",
       "    el.setAttribute('tabindex', 0);\n",
       "    // reach out to IPython and tell the keyboard manager to turn it's self\n",
       "    // off when our div gets focus\n",
       "\n",
       "    // location in version 3\n",
       "    if (IPython.notebook.keyboard_manager) {\n",
       "        IPython.notebook.keyboard_manager.register_events(el);\n",
       "    } else {\n",
       "        // location in version 2\n",
       "        IPython.keyboard_manager.register_events(el);\n",
       "    }\n",
       "};\n",
       "\n",
       "mpl.figure.prototype._key_event_extra = function (event, _name) {\n",
       "    var manager = IPython.notebook.keyboard_manager;\n",
       "    if (!manager) {\n",
       "        manager = IPython.keyboard_manager;\n",
       "    }\n",
       "\n",
       "    // Check for shift+enter\n",
       "    if (event.shiftKey && event.which === 13) {\n",
       "        this.canvas_div.blur();\n",
       "        // select the cell after this one\n",
       "        var index = IPython.notebook.find_cell_index(this.cell_info[0]);\n",
       "        IPython.notebook.select(index + 1);\n",
       "    }\n",
       "};\n",
       "\n",
       "mpl.figure.prototype.handle_save = function (fig, _msg) {\n",
       "    fig.ondownload(fig, null);\n",
       "};\n",
       "\n",
       "mpl.find_output_cell = function (html_output) {\n",
       "    // Return the cell and output element which can be found *uniquely* in the notebook.\n",
       "    // Note - this is a bit hacky, but it is done because the \"notebook_saving.Notebook\"\n",
       "    // IPython event is triggered only after the cells have been serialised, which for\n",
       "    // our purposes (turning an active figure into a static one), is too late.\n",
       "    var cells = IPython.notebook.get_cells();\n",
       "    var ncells = cells.length;\n",
       "    for (var i = 0; i < ncells; i++) {\n",
       "        var cell = cells[i];\n",
       "        if (cell.cell_type === 'code') {\n",
       "            for (var j = 0; j < cell.output_area.outputs.length; j++) {\n",
       "                var data = cell.output_area.outputs[j];\n",
       "                if (data.data) {\n",
       "                    // IPython >= 3 moved mimebundle to data attribute of output\n",
       "                    data = data.data;\n",
       "                }\n",
       "                if (data['text/html'] === html_output) {\n",
       "                    return [cell, data, j];\n",
       "                }\n",
       "            }\n",
       "        }\n",
       "    }\n",
       "};\n",
       "\n",
       "// Register the function which deals with the matplotlib target/channel.\n",
       "// The kernel may be null if the page has been refreshed.\n",
       "if (IPython.notebook.kernel !== null) {\n",
       "    IPython.notebook.kernel.comm_manager.register_target(\n",
       "        'matplotlib',\n",
       "        mpl.mpl_figure_comm\n",
       "    );\n",
       "}\n"
      ],
      "text/plain": [
       "<IPython.core.display.Javascript object>"
      ]
     },
     "metadata": {},
     "output_type": "display_data"
    },
    {
     "data": {
      "text/html": [
       "<img src=\"data:image/png;base64,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\" width=\"640\">"
      ],
      "text/plain": [
       "<IPython.core.display.HTML object>"
      ]
     },
     "metadata": {},
     "output_type": "display_data"
    }
   ],
   "source": [
    "thetas = np.linspace(0.0, 2*np.pi, 500)\n",
    "energy = np.zeros(len(thetas))\n",
    "\n",
    "for idx, theta in enumerate(thetas):\n",
    "    energy[idx] = func([theta])    \n",
    "\n",
    "fig = plt.figure()\n",
    "plt.plot(thetas, energy)\n",
    "plt.title('Expectation value w.r.t angle theta')\n",
    "plt.ylabel('Expectation value of $H_1$')\n",
    "plt.xlabel('Theta (radians)')\n",
    "indices = [idx for idx, x in enumerate(energy) if x <= -1.0]\n",
    "xmin = thetas[indices[len(indices)//2]]\n",
    "ymin = energy.min()\n",
    "text= \"Theta={:.3f}, \\n Energy={:.3f}\".format(xmin, ymin)\n",
    "plt.plot(xmin,ymin,'x')\n",
    "plt.annotate(text, xy=(xmin+0.75, ymin))\n",
    "fig.show()\n"
   ]
  },
  {
   "cell_type": "markdown",
   "metadata": {
    "colab_type": "text",
    "id": "2Ja-OPkAfOlP"
   },
   "source": [
    "# **Excited States of the Hamiltonian**\n",
    "\n"
   ]
  },
  {
   "cell_type": "markdown",
   "metadata": {
    "colab_type": "text",
    "id": "60AN7JBnmWmB"
   },
   "source": [
    "One of the way to find the $k^{th}$ exicted states of a Hamiltonian would be to update the Hamiltonain $H$ to $H_{k}$ as follows:\n",
    "$$ H_{k} = H + \\sum_{i=0}^{k-1}\\beta_{i}|i\\rangle\\langle i|$$\n",
    "**For example:** To find the first excited state, we find $H_1 = H + \\beta_0 |g\\rangle\\langle g|$, where $g$ is the ground state of the Hamiltonian. This works because of spectral decomposition.\n",
    "\n",
    "This can be used to update our cost function, $C_{k}$, as follows:\n",
    "$$ C(\\theta_{k}) = \\langle \\psi(\\theta_k)| H | \\psi (\\theta_k) \\rangle + \\sum_{i=0}^{k-1} \\beta_{i} |\\langle \\psi(\\theta_k) | \\psi(\\theta_{i})\\rangle|^{2} $$ \n",
    "\n",
    "We'd already calculated the first term in VQE, but to calculate the next\n",
    "summation term, we refer to [[2](https://arxiv.org/pdf/1805.08138.pdf)]. It suggests us to rewrite the overlap term $|\\langle \\psi(\\theta_k)|\\psi(\\theta_{i})\\rangle|^{2}$ as $|\\langle00|U(\\theta_{k})^{\\dagger}U(\\theta_{i})|00\\rangle |^{2}$. Therefore, we can prepare the state $U(\\theta_{k})^{\\dagger}U(\\theta_{i})|00\\rangle$ using the trial state preparation circuit for current state and $i^{th}$ previously-computed state. \n",
    "\n",
    "This technique is known as ***Variational Quantum Deflation*** and requires the same number of qubits as ***Variational Quantum Eigensolver*** and around twice the circuit depth."
   ]
  },
  {
   "cell_type": "code",
   "execution_count": 185,
   "metadata": {
    "colab": {},
    "colab_type": "code",
    "id": "oe6-1eCUuhK8"
   },
   "outputs": [],
   "source": [
    "def vqd_cost(thetak, thetai, func, circuit, num_qubits, beta, shots=2048):\n",
    "    \"\"\"  Returns cost for VQD \"\"\"\n",
    "    \n",
    "    energy = func(thetak)\n",
    "\n",
    "    for idx, theta in enumerate(thetai):\n",
    "        ansatz = circuit(theta, num_qubits) + circuit(thetak, num_qubits).inverse()\n",
    "        ansatz.measure_all()\n",
    "        backend = Aer.get_backend('qasm_simulator')\n",
    "        result = execute(ansatz, backend, shots=shots).result()\n",
    "        energy += beta[idx]*result.get_counts().get('00 00', 0)/shots\n",
    "\n",
    "    return energy\n",
    "\n",
    "def vqd(hamiltonian, circuit, num_qubits, params_shape, beta):\n",
    "    \"\"\" \n",
    "        Runs Variational Quantum Deflation algorithm on a given Hamiltonian\n",
    "        to give its excited eigenvalues.\n",
    "\n",
    "        Args: \n",
    "        hamiltonian (matrix(ndarray)): Hamiltonian for \n",
    "        circuit (Quantum Circuit): ansatz template\n",
    "        num_qubits (int): number of qubits to make an ansatz\n",
    "        params_shape (tuple): shape tuple for parameters in ansatz\n",
    "        beta (int): beta coefficent for VQD\n",
    "\n",
    "        Returns:\n",
    "        energy (vector(ndarray)): Calculated eigen energies for the Hamiltonian. \n",
    "    \"\"\"\n",
    "\n",
    "    a, b, c = decompose_ham_to_pauli(hamiltonian)\n",
    "    initial_params  = np.random.uniform(-np.pi, np.pi, params_shape)\n",
    "    func  = ft.partial(vqe, meas_basis=a, coeffs=b, circuit=circuit, \n",
    "                  num_qubits=num_qubits, shots=2048)\n",
    "    res1 = sp.optimize.minimize(func, initial_params, method='Powell')\n",
    "    energies = [float(res1.fun)]\n",
    "    thetas = [np.reshape(res1.x, params_shape)]\n",
    "    if len(beta) != np.shape(hamiltonian)[0]-1:\n",
    "        raise ValueError('Length mismatch! Provide sufficient amount of beta_{i}')\n",
    "\n",
    "    for eigst in range(np.shape(hamiltonian)[0]-1):\n",
    "        cost = ft.partial(vqd_cost, thetai=thetas, func=func, circuit=circuit, \n",
    "                  num_qubits=num_qubits, beta=beta, shots=2048)\n",
    "        res2 = sp.optimize.minimize(cost, initial_params, method='Powell')\n",
    "        if res2.success:\n",
    "            thetas.append(np.reshape(res2.x, params_shape))\n",
    "            energies.append(float(res2.fun))\n",
    "        else:\n",
    "            raise ValueError('Minimization was not successful.')\n",
    "\n",
    "    return energies\n"
   ]
  },
  {
   "cell_type": "markdown",
   "metadata": {
    "colab_type": "text",
    "id": "6kJ41vVsG9fP"
   },
   "source": [
    "## Ansatz 1"
   ]
  },
  {
   "cell_type": "code",
   "execution_count": 194,
   "metadata": {
    "colab": {
     "base_uri": "https://localhost:8080/",
     "height": 34
    },
    "colab_type": "code",
    "id": "4rIbt6V7gZoV",
    "outputId": "4af89766-600b-46d4-aaf4-f4e491874f97"
   },
   "outputs": [
    {
     "data": {
      "text/plain": [
       "[-1.0, 0.9921875, 0.994189453125, 1.0003808593749999]"
      ]
     },
     "execution_count": 194,
     "metadata": {},
     "output_type": "execute_result"
    }
   ],
   "source": [
    "excited_energies = vqd(H1, ansatz1, 2, (2,2), [3.5, 1e-1, 1e-3])\n",
    "excited_energies"
   ]
  },
  {
   "cell_type": "code",
   "execution_count": 195,
   "metadata": {
    "colab": {},
    "colab_type": "code",
    "id": "yWxIVUl4HbO8"
   },
   "outputs": [],
   "source": [
    "assert(np.allclose(np.asarray(excited_energies),  np.sort(np.linalg.eig(H1)[0]), atol=1e-2))"
   ]
  },
  {
   "cell_type": "markdown",
   "metadata": {
    "colab_type": "text",
    "id": "vYKsLy2XHBzb"
   },
   "source": [
    "## Ansatz 2"
   ]
  },
  {
   "cell_type": "code",
   "execution_count": 196,
   "metadata": {
    "colab": {
     "base_uri": "https://localhost:8080/",
     "height": 34
    },
    "colab_type": "code",
    "id": "nV94z7qcGqji",
    "outputId": "f333f733-c28e-40d8-d5ec-2b4028a8771b"
   },
   "outputs": [
    {
     "data": {
      "text/plain": [
       "[-1.0, 0.99365234375, 1.0012158203125, 1.0074306640625]"
      ]
     },
     "execution_count": 196,
     "metadata": {},
     "output_type": "execute_result"
    }
   ],
   "source": [
    "excited_energies = vqd(H1, ansatz2, 2, 1, [2.7, 1e-2, 1e-3])\n",
    "excited_energies"
   ]
  },
  {
   "cell_type": "code",
   "execution_count": 197,
   "metadata": {
    "colab": {},
    "colab_type": "code",
    "id": "X0yrCKeuIrWv"
   },
   "outputs": [],
   "source": [
    "assert(np.allclose(np.asarray(excited_energies),  np.sort(np.linalg.eig(H1)[0]), atol=1e-2))"
   ]
  },
  {
   "cell_type": "markdown",
   "metadata": {
    "colab_type": "text",
    "id": "PzhXuYGdSivx"
   },
   "source": [
    "# **Interpreting the Results**"
   ]
  },
  {
   "cell_type": "markdown",
   "metadata": {
    "colab_type": "text",
    "id": "SNO-dgnES7dO"
   },
   "source": [
    "\n",
    "\n",
    "1.   Both of our ansatz produced accurate results despite of ansatz 2 being more expressible than ansatz 1. One reason for this can be that the the ansatz 2 expressibility was covered the interested solution subspace. Another reason could be due to its more entangling capability.\n",
    "2.   Convergence of VQE depends upon both the type of optimizer (gradient-based or point-search) and the choice of ansatz. In general more the number of parameters, and the depth of ansatz, more difficult will be the convergence.\n",
    "3.   VQD was able to perform better as we adjusted the values of $\\beta_{i}$ based on the difference between the eigen-energies. In general, values of these $\\beta_{i}$ should be larger than the largest difference between the consecutive eigen-energies. \n"
   ]
  },
  {
   "cell_type": "code",
   "execution_count": null,
   "metadata": {
    "colab": {},
    "colab_type": "code",
    "id": "cfiPHCX91yD0"
   },
   "outputs": [],
   "source": []
  }
 ],
 "metadata": {
  "colab": {
   "name": "QOSFMentorshipAssessmentTask.ipynb",
   "provenance": [],
   "toc_visible": true
  },
  "kernelspec": {
   "display_name": "Python 3",
   "language": "python",
   "name": "python3"
  },
  "language_info": {
   "codemirror_mode": {
    "name": "ipython",
    "version": 3
   },
   "file_extension": ".py",
   "mimetype": "text/x-python",
   "name": "python",
   "nbconvert_exporter": "python",
   "pygments_lexer": "ipython3",
   "version": "3.8.2"
  }
 },
 "nbformat": 4,
 "nbformat_minor": 1
}
